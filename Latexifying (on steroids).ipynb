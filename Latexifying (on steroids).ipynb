{
 "cells": [
  {
   "cell_type": "markdown",
   "metadata": {
    "collapsed": false,
    "slideshow": {
     "slide_type": "slide"
    }
   },
   "source": [
    "# Latexifying sage objects!\n",
    "\n",
    "Objects in Sage have $5$ different ways to be represented:\n",
    "\n",
    "1. Plain representation\n",
    "2. Latex\n",
    "3. Pretty print\n",
    "4. Ascii art\n",
    "5. Unicode art\n",
    "\n",
    "The first three work for every object that is created in sage wheras the last two (the art ones) require the use of SageObject to work.\n",
    "\n",
    "First thing to note is that you can change the display of your jupyter stylesheet using\n",
    "\n",
    "```python\n",
    "%display ...\n",
    "```\n",
    "allows you to display the notebook in one of four formats:\n",
    "1. plain\n",
    "2. ascii_art\n",
    "3. unicode_art\n",
    "4. latex\n",
    "\n",
    "When a display is chosen, it will try to automatically use that display for every object.\n",
    "\n",
    "Let's just start with a plain display and change this later."
   ]
  },
  {
   "cell_type": "code",
   "execution_count": 65,
   "metadata": {
    "collapsed": false,
    "slideshow": {
     "slide_type": "subslide"
    }
   },
   "outputs": [
   ],
   "source": [
    "%display plain"
   ]
  },
  {
   "cell_type": "markdown",
   "metadata": {
    "collapsed": false,
    "slideshow": {
     "slide_type": "subslide"
    }
   },
   "source": [
    "There are $5$ main functions that will be useful when deciding how to output a class:\n",
    "\n",
    "In order to define a \"name\" for your object, you can use the representation method.\n",
    "```python\n",
    "def __repr__(self):\n",
    "```\n",
    "This allows you to say what the object is when the object is printed directly.\n",
    "\n",
    "\n",
    "For latex, you can use the `_latex_` method:\n",
    "```python\n",
    "def _latex_(self):\n",
    "```\n",
    "\n",
    "For ascii art, you can use the `_ascii_art_` method:\n",
    "```python\n",
    "def _ascii_art(self):\n",
    "```\n",
    "\n",
    "For unicode art, you can use the `_unicode_art_` method:\n",
    "```python\n",
    "def _unicode_art(self):\n",
    "```\n",
    "\n",
    "For pretty printing, you can use the `pp` method:\n",
    "```python\n",
    "def pp(self):\n",
    "```\n",
    "\n",
    "**Note that `__repr__` has two underlines on either side whereas the other ones only have one**\n",
    "\n",
    "Let's look at the following `SageObject` example:"
   ]
  },
  {
   "cell_type": "code",
   "execution_count": 66,
   "metadata": {
    "collapsed": false,
    "slideshow": {
     "slide_type": "slide"
    }
   },
   "outputs": [
    {
     "name": "stderr",
     "output_type": "stream",
     "text": [
      "<ipython-input-66-e3d6d97428c9>:20: SyntaxWarning: import * only allowed at module level\n",
      "  def _unicode_art_(self):\n"
     ]
    }
   ],
   "source": [
    "r\"\"\"\n",
    "An arbitrary sage object.\n",
    "\"\"\"\n",
    "class SO(SageObject):\n",
    "    r\"\"\"\n",
    "    Return a latex object\n",
    "    \"\"\"\n",
    "    def _latex_(self):\n",
    "        return LatexExpr('\\\\text{This is a test class on } T=w^2')\n",
    "    r\"\"\"\n",
    "    Return an ascii art string\n",
    "    \"\"\"\n",
    "    def _ascii_art_(self):\n",
    "        from sage.typeset.ascii_art import AsciiArt\n",
    "        st = ['|test|','|go  |']\n",
    "        return AsciiArt(st)\n",
    "    r\"\"\"\n",
    "    Return a unicode art string\n",
    "    \"\"\"\n",
    "    def _unicode_art_(self):\n",
    "        from sage.typeset.unicode_art import UnicodeArt\n",
    "        from sage.typeset.symbols import *\n",
    "        st = unicode_left_square_bracket.character_art(2)\n",
    "        st += unicode_art('test'+\"\\n\"+'go')\n",
    "        st += unicode_right_square_bracket.character_art(2)\n",
    "        return st\n",
    "    r\"\"\"\n",
    "    Return a representation of the sage object\n",
    "    \"\"\"\n",
    "    def __repr__(self):\n",
    "        return 'Random SageObject'\n",
    "    r\"\"\"\n",
    "    Return a pretty print of the sage object\n",
    "    \"\"\"\n",
    "    def pp(self):\n",
    "        return 'Usually used for pretty printing'"
   ]
  },
  {
   "cell_type": "markdown",
   "metadata": {
    "collapsed": false,
    "slideshow": {
     "slide_type": "subslide"
    }
   },
   "source": [
    "Since we set the display to plain, when we ask for `S` we will get whatever is in `__repr__`:"
   ]
  },
  {
   "cell_type": "code",
   "execution_count": 67,
   "metadata": {
    "collapsed": false,
    "slideshow": {
     "slide_type": "fragment"
    }
   },
   "outputs": [
    {
     "data": {
      "text/plain": [
       "Random SageObject"
      ]
     },
     "execution_count": 67,
     "metadata": {
     },
     "output_type": "execute_result"
    }
   ],
   "source": [
    "S = SO()\n",
    "S"
   ]
  },
  {
   "cell_type": "markdown",
   "metadata": {
    "collapsed": false,
    "slideshow": {
     "slide_type": "subslide"
    }
   },
   "source": [
    "Trying the other methods, we see that we get the following"
   ]
  },
  {
   "cell_type": "code",
   "execution_count": 68,
   "metadata": {
    "collapsed": false,
    "slideshow": {
     "slide_type": "fragment"
    }
   },
   "outputs": [
    {
     "data": {
      "text/plain": [
       "\\text{This is a test class on } T=w^2"
      ]
     },
     "execution_count": 68,
     "metadata": {
     },
     "output_type": "execute_result"
    }
   ],
   "source": [
    "latex(S)"
   ]
  },
  {
   "cell_type": "code",
   "execution_count": 69,
   "metadata": {
    "collapsed": false,
    "slideshow": {
     "slide_type": "fragment"
    }
   },
   "outputs": [
    {
     "data": {
      "text/plain": [
       "|test|\n",
       "|go  |"
      ]
     },
     "execution_count": 69,
     "metadata": {
     },
     "output_type": "execute_result"
    }
   ],
   "source": [
    "ascii_art(S)"
   ]
  },
  {
   "cell_type": "code",
   "execution_count": 70,
   "metadata": {
    "collapsed": false,
    "slideshow": {
     "slide_type": "fragment"
    }
   },
   "outputs": [
    {
     "data": {
      "text/plain": [
       "⎡test⎤\n",
       "⎣go  ⎦"
      ]
     },
     "execution_count": 70,
     "metadata": {
     },
     "output_type": "execute_result"
    }
   ],
   "source": [
    "unicode_art(S)"
   ]
  },
  {
   "cell_type": "code",
   "execution_count": 71,
   "metadata": {
    "collapsed": false,
    "slideshow": {
     "slide_type": "fragment"
    }
   },
   "outputs": [
    {
     "data": {
      "text/plain": [
       "'Usually used for pretty printing'"
      ]
     },
     "execution_count": 71,
     "metadata": {
     },
     "output_type": "execute_result"
    }
   ],
   "source": [
    "S.pp()"
   ]
  },
  {
   "cell_type": "markdown",
   "metadata": {
    "collapsed": false,
    "slideshow": {
     "slide_type": "subslide"
    }
   },
   "source": [
    "**Note that by default `S.latex()` is not defined as we would need to define it in the object**"
   ]
  },
  {
   "cell_type": "code",
   "execution_count": 72,
   "metadata": {
    "collapsed": false,
    "scrolled": true,
    "slideshow": {
     "slide_type": "fragment"
    }
   },
   "outputs": [
    {
     "ename": "AttributeError",
     "evalue": "'SO' object has no attribute 'latex'",
     "output_type": "error",
     "traceback": [
      "\u001b[0;31m---------------------------------------------------------------------------\u001b[0m",
      "\u001b[0;31mAttributeError\u001b[0m                            Traceback (most recent call last)",
      "\u001b[0;32m<ipython-input-72-30315b08c625>\u001b[0m in \u001b[0;36m<module>\u001b[0;34m()\u001b[0m\n\u001b[0;32m----> 1\u001b[0;31m \u001b[0mS\u001b[0m\u001b[0;34m.\u001b[0m\u001b[0mlatex\u001b[0m\u001b[0;34m(\u001b[0m\u001b[0;34m)\u001b[0m\u001b[0;34m\u001b[0m\u001b[0m\n\u001b[0m",
      "\u001b[0;31mAttributeError\u001b[0m: 'SO' object has no attribute 'latex'"
     ]
    }
   ],
   "source": [
    "S.latex()"
   ]
  },
  {
   "cell_type": "markdown",
   "metadata": {
    "collapsed": false,
    "slideshow": {
     "slide_type": "subslide"
    }
   },
   "source": [
    "If we change the display, notice how calling the object automatically returns the new display style. In the case of latex, it will automatically convert all latex expressions."
   ]
  },
  {
   "cell_type": "code",
   "execution_count": 73,
   "metadata": {
    "collapsed": false,
    "slideshow": {
     "slide_type": "fragment"
    }
   },
   "outputs": [
    {
     "data": {
      "text/html": [
       "<html><script type=\"math/tex; mode=display\">\\text{This is a test class on } T=w^2</script></html>"
      ],
      "text/plain": [
       "Random SageObject"
      ]
     },
     "execution_count": 73,
     "metadata": {
     },
     "output_type": "execute_result"
    }
   ],
   "source": [
    "%display latex\n",
    "S"
   ]
  },
  {
   "cell_type": "markdown",
   "metadata": {
    "collapsed": false,
    "slideshow": {
     "slide_type": "slide"
    }
   },
   "source": [
    "Another key point is that `SageObject` is only required for ascii and unicode art. For all other things, everything works regardless of the object type."
   ]
  },
  {
   "cell_type": "code",
   "execution_count": 74,
   "metadata": {
    "collapsed": false,
    "slideshow": {
     "slide_type": "subslide"
    }
   },
   "outputs": [
    {
     "name": "stderr",
     "output_type": "stream",
     "text": [
      "<ipython-input-74-166e625ab02a>:20: SyntaxWarning: import * only allowed at module level\n",
      "  def _unicode_art_(self):\n"
     ]
    }
   ],
   "source": [
    "r\"\"\"\n",
    "An arbitrary object.\n",
    "\"\"\"\n",
    "class OO():\n",
    "    r\"\"\"\n",
    "    Return a latex object\n",
    "    \"\"\"\n",
    "    def _latex_(self):\n",
    "        return LatexExpr('\\\\text{This is a test class on } T=w^2')\n",
    "    r\"\"\"\n",
    "    Return an ascii art string\n",
    "    \"\"\"\n",
    "    def _ascii_art_(self):\n",
    "        from sage.typeset.ascii_art import AsciiArt\n",
    "        st = ['|test|','|go  |']\n",
    "        return AsciiArt(st)\n",
    "    r\"\"\"\n",
    "    Return a unicode art string\n",
    "    \"\"\"\n",
    "    def _unicode_art_(self):\n",
    "        from sage.typeset.unicode_art import UnicodeArt\n",
    "        from sage.typeset.symbols import *\n",
    "        st = unicode_left_square_bracket.character_art(2)\n",
    "        st += unicode_art('test'+\"\\n\"+'go')\n",
    "        st += unicode_right_square_bracket.character_art(2)\n",
    "        return st\n",
    "    r\"\"\"\n",
    "    Return a representation of the sage object\n",
    "    \"\"\"\n",
    "    def __repr__(self):\n",
    "        return 'Random SageObject'\n",
    "    r\"\"\"\n",
    "    Return a pretty print of the sage object\n",
    "    \"\"\"\n",
    "    def pp(self):\n",
    "        return 'Usually used for pretty printing'"
   ]
  },
  {
   "cell_type": "code",
   "execution_count": 75,
   "metadata": {
    "collapsed": false,
    "slideshow": {
     "slide_type": "subslide"
    }
   },
   "outputs": [
    {
     "data": {
      "text/html": [
       "<html><script type=\"math/tex; mode=display\">\\text{This is a test class on } T=w^2</script></html>"
      ],
      "text/plain": [
       "Random SageObject"
      ]
     },
     "execution_count": 75,
     "metadata": {
     },
     "output_type": "execute_result"
    }
   ],
   "source": [
    "T = OO()\n",
    "T"
   ]
  },
  {
   "cell_type": "code",
   "execution_count": 76,
   "metadata": {
    "collapsed": false,
    "slideshow": {
     "slide_type": "fragment"
    }
   },
   "outputs": [
    {
     "data": {
      "text/html": [
       "<html><script type=\"math/tex; mode=display\">\\text{This is a test class on } T=w^2</script></html>"
      ],
      "text/plain": [
       "\\text{This is a test class on } T=w^2"
      ]
     },
     "execution_count": 76,
     "metadata": {
     },
     "output_type": "execute_result"
    }
   ],
   "source": [
    "latex(T)"
   ]
  },
  {
   "cell_type": "code",
   "execution_count": 77,
   "metadata": {
    "collapsed": false,
    "slideshow": {
     "slide_type": "fragment"
    }
   },
   "outputs": [
    {
     "data": {
      "text/html": [
       "<html><script type=\"math/tex; mode=display\">\\verb|Random|\\phantom{\\verb!x!}\\verb|SageObject|</script></html>"
      ],
      "text/plain": [
       "Random SageObject"
      ]
     },
     "execution_count": 77,
     "metadata": {
     },
     "output_type": "execute_result"
    }
   ],
   "source": [
    "ascii_art(T)"
   ]
  },
  {
   "cell_type": "code",
   "execution_count": 78,
   "metadata": {
    "collapsed": false,
    "slideshow": {
     "slide_type": "fragment"
    }
   },
   "outputs": [
    {
     "data": {
      "text/html": [
       "<html><script type=\"math/tex; mode=display\">\\verb|Random|\\phantom{\\verb!x!}\\verb|SageObject|</script></html>"
      ],
      "text/plain": [
       "Random SageObject"
      ]
     },
     "execution_count": 78,
     "metadata": {
     },
     "output_type": "execute_result"
    }
   ],
   "source": [
    "unicode_art(T)"
   ]
  },
  {
   "cell_type": "code",
   "execution_count": 79,
   "metadata": {
    "collapsed": false,
    "slideshow": {
     "slide_type": "fragment"
    }
   },
   "outputs": [
    {
     "data": {
      "text/html": [
       "<html><script type=\"math/tex; mode=display\">\\text{This is a test class on } T=w^2</script></html>"
      ],
      "text/plain": [
       "Random SageObject"
      ]
     },
     "execution_count": 79,
     "metadata": {
     },
     "output_type": "execute_result"
    }
   ],
   "source": [
    "pretty_print(T)"
   ]
  },
  {
   "cell_type": "code",
   "execution_count": 80,
   "metadata": {
    "collapsed": false,
    "slideshow": {
     "slide_type": "fragment"
    }
   },
   "outputs": [
    {
     "data": {
      "text/html": [
       "<html><script type=\"math/tex; mode=display\">\\verb|Usually|\\phantom{\\verb!x!}\\verb|used|\\phantom{\\verb!x!}\\verb|for|\\phantom{\\verb!x!}\\verb|pretty|\\phantom{\\verb!x!}\\verb|printing|</script></html>"
      ],
      "text/plain": [
       "'Usually used for pretty printing'"
      ]
     },
     "execution_count": 80,
     "metadata": {
     },
     "output_type": "execute_result"
    }
   ],
   "source": [
    "T.pp()"
   ]
  },
  {
   "cell_type": "code",
   "execution_count": 81,
   "metadata": {
    "collapsed": false,
    "slideshow": {
     "slide_type": "subslide"
    }
   },
   "outputs": [
   ],
   "source": [
    "%display plain"
   ]
  },
  {
   "cell_type": "code",
   "execution_count": 82,
   "metadata": {
    "collapsed": false,
    "jupyter": {
    },
    "slideshow": {
     "slide_type": "slide"
    }
   },
   "outputs": [
   ],
   "source": [
    "class tikz():\n",
    "    def _latex_(self):\n",
    "        return LatexExpr('\\\\begin{tikzpicture}[font=\\\\LARGE] \\n\\\n",
    "% Figure parameters (tta and k needs to have the same sign) \\n\\\n",
    "% They can be modified at will \\n\\\n",
    "\\\\def \\\\tta{ -10.00000000000000 } % Defines the first angle of perspective \\n\\\n",
    "\\\\def \\\\k{    -3.00000000000000 } % Factor for second angle of perspective \\n\\\n",
    "\\\\def \\\\l{     6.00000000000000 } % Defines the width  of the parallelepiped \\n\\\n",
    "\\\\def \\\\d{     5.00000000000000 } % Defines the depth  of the parallelepiped \\n\\\n",
    "\\\\def \\\\h{     7.00000000000000 } % Defines the heigth of the parallelepiped \\n\\\n",
    "\\n\\\n",
    "% The vertices A,B,C,D define the reference plan (vertical) \\n\\\n",
    "\\\\coordinate (A) at (0,0); \\n\\\n",
    "\\\\coordinate (B) at ({-\\\\h*sin(\\\\tta)},{\\\\h*cos(\\\\tta)}); \\n\\\n",
    "\\\\coordinate (C) at ({-\\\\h*sin(\\\\tta)-\\\\d*sin(\\\\k*\\\\tta)}, \\n\\\n",
    "                    {\\\\h*cos(\\\\tta)+\\\\d*cos(\\\\k*\\\\tta)}); \\n\\\n",
    "\\\\coordinate (D) at ({-\\\\d*sin(\\\\k*\\\\tta)},{\\\\d*cos(\\\\k*\\\\tta)}); \\n\\\n",
    "\\n\\\n",
    "% The vertices Ap,Bp,Cp,Dp define a plane translated from the \\n\\\n",
    "% reference plane by the width of the parallelepiped \\n\\\n",
    "\\\\coordinate (Ap) at (\\\\l,0); \\n\\\n",
    "\\\\coordinate (Bp) at ({\\\\l-\\\\h*sin(\\\\tta)},{\\\\h*cos(\\\\tta)}); \\n\\\n",
    "\\\\coordinate (Cp) at ({\\\\l-\\\\h*sin(\\\\tta)-\\\\d*sin(\\\\k*\\\\tta)}, \\n\\\n",
    "                     {\\\\h*cos(\\\\tta)+\\\\d*cos(\\\\k*\\\\tta)}); \\n\\\n",
    "\\\\coordinate (Dp) at ({\\\\l-\\\\d*sin(\\\\k*\\\\tta)},{\\\\d*cos(\\\\k*\\\\tta)}); \\n\\\n",
    " \\n\\\n",
    "% Marking the vertices of the tetrahedron (red) \\n\\\n",
    "% and of the parallelepiped (black) \\n\\\n",
    "\\\\fill[black]  (A) circle [radius=2pt]; \\n\\\n",
    "\\\\fill[red]    (B) circle [radius=2pt]; \\n\\\n",
    "\\\\fill[black]  (C) circle [radius=2pt]; \\n\\\n",
    "\\\\fill[red]    (D) circle [radius=2pt]; \\n\\\n",
    "\\\\fill[red]   (Ap) circle [radius=2pt]; \\n\\\n",
    "\\\\fill[black] (Bp) circle [radius=2pt]; \\n\\\n",
    "\\\\fill[red]   (Cp) circle [radius=2pt]; \\n\\\n",
    "\\\\fill[black] (Dp) circle [radius=2pt]; \\n\\\n",
    " \\n\\\n",
    "% painting first the three visible faces of the tetrahedron \\n\\\n",
    "\\\\filldraw[draw=red,bottom color=red!50!black, top color=cyan!50] (B) -- (Cp) -- (D); \\n\\\n",
    "\\\\filldraw[draw=red,bottom color=red!50!black, top color=cyan!50] (B) -- (D)  -- (Ap); \\n\\\n",
    "\\\\filldraw[draw=red,bottom color=red!50!black, top color=cyan!50] (B) -- (Cp) -- (Ap); \\n\\\n",
    " \\n\\\n",
    "% Draw the edges of the tetrahedron \\n\\\n",
    "\\\\draw[red,-,very thick] (Ap) --  (D) \\n\\\n",
    "                        (Ap) --  (B) \\n\\\n",
    "                        (Ap) -- (Cp) \\n\\\n",
    "                        (B)  --  (D) \\n\\\n",
    "                        (Cp) --  (D) \\n\\\n",
    "                        (B)  -- (Cp); \\n\\\n",
    " \\n\\\n",
    "% Draw the visible edges of the parallelepiped \\n\\\n",
    "\\\\draw [-,thin] (B)  --  (A) \\n\\\n",
    "               (Ap) -- (Bp) \\n\\\n",
    "               (B)  --  (C) \\n\\\n",
    "               (D)  --  (C) \\n\\\n",
    "               (A)  --  (D) \\n\\\n",
    "               (Ap) --  (A) \\n\\\n",
    "               (Cp) --  (C) \\n\\\n",
    "               (Bp) --  (B) \\n\\\n",
    "               (Bp) -- (Cp); \\n\\\n",
    " \\n\\\n",
    "% Draw the hidden edges of the parallelepiped \\n\\\n",
    "\\\\draw [gray,-,thin] (Dp) -- (Cp); \\n\\\n",
    "                    (Dp) --  (D); \\n\\\n",
    "                    (Ap) -- (Dp); \\n\\\n",
    " \\n\\\n",
    "% Name the vertices (the names are not consistent \\n\\\n",
    "%  with the node name, but it makes the programming easier) \\n\\\n",
    "\\\\draw (Ap) node [right]           {$A$} \\n\\\n",
    "      (Bp) node [right, gray]     {$F$} \\n\\\n",
    "      (Cp) node [right]           {$D$} \\n\\\n",
    "      (C)  node [left,gray]       {$E$} \\n\\\n",
    "      (D)  node [left]            {$B$} \\n\\\n",
    "      (A)  node [left,gray]       {$G$} \\n\\\n",
    "      (B)  node [above left=+5pt] {$C$} \\n\\\n",
    "      (Dp) node [right,gray]      {$H$}; \\n\\\n",
    " \\n\\\n",
    "% Drawing again vertex $C$, node (B) because it disappeared behind the edges. \\n\\\n",
    "% Drawing again vertex $H$, node (Dp) because it disappeared behind the edges. \\n\\\n",
    "\\\\fill[red]   (B) circle [radius=2pt]; \\n\\\n",
    "\\\\fill[gray] (Dp) circle [radius=2pt]; \\n\\\n",
    " \\n\\\n",
    "% From the reference and this example one can easily draw \\n\\\n",
    "% the twin tetrahedron jointly to this one. \\n\\\n",
    "% Drawing the edges of the twin tetrahedron \\n\\\n",
    "% switching the p_s: A <-> Ap, etc... \\n\\\n",
    "\\\\draw[red,-,dashed, thin] (A)  -- (Dp) \\n\\\n",
    "                          (A)  -- (Bp) \\n\\\n",
    "                          (A)  --  (C) \\n\\\n",
    "                          (Bp) -- (Dp) \\n\\\n",
    "                          (C)  -- (Dp) \\n\\\n",
    "                          (Bp) --  (C); \\n\\\n",
    "\\\\end{tikzpicture}')"
   ]
  },
  {
   "cell_type": "code",
   "execution_count": 83,
   "metadata": {
    "collapsed": false,
    "slideshow": {
     "slide_type": "subslide"
    }
   },
   "outputs": [
   ],
   "source": [
    "t = tikz()"
   ]
  },
  {
   "cell_type": "code",
   "execution_count": 84,
   "metadata": {
    "collapsed": false,
    "slideshow": {
     "slide_type": "fragment"
    }
   },
   "outputs": [
    {
     "data": {
      "text/plain": [
       "\\begin{tikzpicture}[font=\\LARGE] \n",
       "% Figure parameters (tta and k needs to have the same sign) \n",
       "% They can be modified at will \n",
       "\\def \\tta{ -10.00000000000000 } % Defines the first angle of perspective \n",
       "\\def \\k{    -3.00000000000000 } % Factor for second angle of perspective \n",
       "\\def \\l{     6.00000000000000 } % Defines the width  of the parallelepiped \n",
       "\\def \\d{     5.00000000000000 } % Defines the depth  of the parallelepiped \n",
       "\\def \\h{     7.00000000000000 } % Defines the heigth of the parallelepiped \n",
       "\n",
       "% The vertices A,B,C,D define the reference plan (vertical) \n",
       "\\coordinate (A) at (0,0); \n",
       "\\coordinate (B) at ({-\\h*sin(\\tta)},{\\h*cos(\\tta)}); \n",
       "\\coordinate (C) at ({-\\h*sin(\\tta)-\\d*sin(\\k*\\tta)}, \n",
       "                    {\\h*cos(\\tta)+\\d*cos(\\k*\\tta)}); \n",
       "\\coordinate (D) at ({-\\d*sin(\\k*\\tta)},{\\d*cos(\\k*\\tta)}); \n",
       "\n",
       "% The vertices Ap,Bp,Cp,Dp define a plane translated from the \n",
       "% reference plane by the width of the parallelepiped \n",
       "\\coordinate (Ap) at (\\l,0); \n",
       "\\coordinate (Bp) at ({\\l-\\h*sin(\\tta)},{\\h*cos(\\tta)}); \n",
       "\\coordinate (Cp) at ({\\l-\\h*sin(\\tta)-\\d*sin(\\k*\\tta)}, \n",
       "                     {\\h*cos(\\tta)+\\d*cos(\\k*\\tta)}); \n",
       "\\coordinate (Dp) at ({\\l-\\d*sin(\\k*\\tta)},{\\d*cos(\\k*\\tta)}); \n",
       " \n",
       "% Marking the vertices of the tetrahedron (red) \n",
       "% and of the parallelepiped (black) \n",
       "\\fill[black]  (A) circle [radius=2pt]; \n",
       "\\fill[red]    (B) circle [radius=2pt]; \n",
       "\\fill[black]  (C) circle [radius=2pt]; \n",
       "\\fill[red]    (D) circle [radius=2pt]; \n",
       "\\fill[red]   (Ap) circle [radius=2pt]; \n",
       "\\fill[black] (Bp) circle [radius=2pt]; \n",
       "\\fill[red]   (Cp) circle [radius=2pt]; \n",
       "\\fill[black] (Dp) circle [radius=2pt]; \n",
       " \n",
       "% painting first the three visible faces of the tetrahedron \n",
       "\\filldraw[draw=red,bottom color=red!50!black, top color=cyan!50] (B) -- (Cp) -- (D); \n",
       "\\filldraw[draw=red,bottom color=red!50!black, top color=cyan!50] (B) -- (D)  -- (Ap); \n",
       "\\filldraw[draw=red,bottom color=red!50!black, top color=cyan!50] (B) -- (Cp) -- (Ap); \n",
       " \n",
       "% Draw the edges of the tetrahedron \n",
       "\\draw[red,-,very thick] (Ap) --  (D) \n",
       "                        (Ap) --  (B) \n",
       "                        (Ap) -- (Cp) \n",
       "                        (B)  --  (D) \n",
       "                        (Cp) --  (D) \n",
       "                        (B)  -- (Cp); \n",
       " \n",
       "% Draw the visible edges of the parallelepiped \n",
       "\\draw [-,thin] (B)  --  (A) \n",
       "               (Ap) -- (Bp) \n",
       "               (B)  --  (C) \n",
       "               (D)  --  (C) \n",
       "               (A)  --  (D) \n",
       "               (Ap) --  (A) \n",
       "               (Cp) --  (C) \n",
       "               (Bp) --  (B) \n",
       "               (Bp) -- (Cp); \n",
       " \n",
       "% Draw the hidden edges of the parallelepiped \n",
       "\\draw [gray,-,thin] (Dp) -- (Cp); \n",
       "                    (Dp) --  (D); \n",
       "                    (Ap) -- (Dp); \n",
       " \n",
       "% Name the vertices (the names are not consistent \n",
       "%  with the node name, but it makes the programming easier) \n",
       "\\draw (Ap) node [right]           {$A$} \n",
       "      (Bp) node [right, gray]     {$F$} \n",
       "      (Cp) node [right]           {$D$} \n",
       "      (C)  node [left,gray]       {$E$} \n",
       "      (D)  node [left]            {$B$} \n",
       "      (A)  node [left,gray]       {$G$} \n",
       "      (B)  node [above left=+5pt] {$C$} \n",
       "      (Dp) node [right,gray]      {$H$}; \n",
       " \n",
       "% Drawing again vertex $C$, node (B) because it disappeared behind the edges. \n",
       "% Drawing again vertex $H$, node (Dp) because it disappeared behind the edges. \n",
       "\\fill[red]   (B) circle [radius=2pt]; \n",
       "\\fill[gray] (Dp) circle [radius=2pt]; \n",
       " \n",
       "% From the reference and this example one can easily draw \n",
       "% the twin tetrahedron jointly to this one. \n",
       "% Drawing the edges of the twin tetrahedron \n",
       "% switching the p_s: A <-> Ap, etc... \n",
       "\\draw[red,-,dashed, thin] (A)  -- (Dp) \n",
       "                          (A)  -- (Bp) \n",
       "                          (A)  --  (C) \n",
       "                          (Bp) -- (Dp) \n",
       "                          (C)  -- (Dp) \n",
       "                          (Bp) --  (C); \n",
       "\\end{tikzpicture}"
      ]
     },
     "execution_count": 84,
     "metadata": {
     },
     "output_type": "execute_result"
    }
   ],
   "source": [
    "latex(t)"
   ]
  },
  {
   "cell_type": "code",
   "execution_count": 0,
   "metadata": {
    "collapsed": false
   },
   "outputs": [
   ],
   "source": [
   ]
  }
 ],
 "metadata": {
  "kernelspec": {
   "display_name": "SageMath (stable)",
   "language": "sagemath",
   "metadata": {
    "cocalc": {
     "description": "Open-source mathematical software system",
     "priority": 10,
     "url": "https://www.sagemath.org/"
    }
   },
   "name": "sagemath"
  },
  "language_info": {
   "codemirror_mode": {
    "name": "ipython",
    "version": 2
   },
   "file_extension": ".py",
   "mimetype": "text/x-python",
   "name": "python",
   "nbconvert_exporter": "python",
   "pygments_lexer": "ipython2",
   "version": "2.7.15"
  }
 },
 "nbformat": 4,
 "nbformat_minor": 0
}