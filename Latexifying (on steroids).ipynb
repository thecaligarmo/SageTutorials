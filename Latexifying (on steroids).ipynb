{
 "cells": [
  {
   "cell_type": "markdown",
   "metadata": {
    "collapsed": false,
    "slideshow": {
     "slide_type": "slide"
    }
   },
   "source": [
    "# Latexifying sage objects!\n",
    "\n",
    "Objects in Sage have 5 different ways to be represented:\n",
    "\n",
    "1. Plain representation\n",
    "2. Latex\n",
    "3. String\n",
    "4. Ascii art\n",
    "5. Unicode art\n",
    "\n",
    "\n",
    "The first three work for every object that is created in sage wheras the last two (the art ones) require the use of SageObject to work."
   ]
  },
  {
   "cell_type": "markdown",
   "metadata": {
    "collapsed": false,
    "slideshow": {
     "slide_type": "subslide"
    }
   },
   "source": [
    "## A new pair of eyes 🤓\n",
    "*Switching Displays*\n",
    "\n",
    "First thing to note is that you can change the display of your jupyter stylesheet using\n",
    "\n",
    "```python\n",
    "%display ...\n",
    "```\n",
    "allows you to display the notebook in one of four formats:\n",
    "1. plain\n",
    "2. ascii_art\n",
    "3. unicode_art\n",
    "4. latex\n",
    "\n",
    "When a display is chosen, it will try to automatically use that display for every object.\n",
    "\n",
    "**By Default, the display is set to `plain`**"
   ]
  },
  {
   "cell_type": "code",
   "execution_count": 0,
   "metadata": {
    "collapsed": false,
    "slideshow": {
     "slide_type": "skip"
    }
   },
   "outputs": [
   ],
   "source": [
    "%display plain"
   ]
  },
  {
   "cell_type": "markdown",
   "metadata": {
    "collapsed": false,
    "slideshow": {
     "slide_type": "subslide"
    }
   },
   "source": [
    "## The main methods\n",
    "\n",
    "There are 5 main functions that will be useful when deciding how to output a class:\n",
    "\n",
    "```python\n",
    "def __repr__(self):\n",
    "```\n",
    "```python\n",
    "def _latex_(self):\n",
    "```\n",
    "```python\n",
    "def __str__(self):\n",
    "```\n",
    "```python\n",
    "def _ascii_art(self):\n",
    "```\n",
    "```python\n",
    "def _unicode_art(self):\n",
    "```\n",
    "\n",
    "\n",
    "**Note that `__repr__` and `__str__` have two underlines on either side whereas the other ones only have one**"
   ]
  },
  {
   "cell_type": "markdown",
   "metadata": {
    "collapsed": false,
    "slideshow": {
     "slide_type": "slide"
    }
   },
   "source": [
    "# A Sage object\n",
    "\n",
    "Let's look at the following `SageObject` example:"
   ]
  },
  {
   "cell_type": "code",
   "execution_count": 0,
   "metadata": {
    "collapsed": false,
    "slideshow": {
     "slide_type": "subslide"
    }
   },
   "outputs": [
   ],
   "source": [
    "r\"\"\"\n",
    "An arbitrary sage object.\n",
    "\"\"\"\n",
    "class SO(SageObject):\n",
    "    def __repr__(self):\n",
    "        return 'SageObject Object'\n",
    "\n",
    "    def _latex_(self):\n",
    "        return LatexExpr('\\\\text{Some random latex: } T=w^2')\n",
    "\n",
    "    def __str__(self):\n",
    "        return 'Stringy'\n",
    "\n",
    "    def _ascii_art_(self):\n",
    "        from sage.typeset.ascii_art import AsciiArt\n",
    "        st = ['|ascii|','|art  |']\n",
    "        return AsciiArt(st)\n",
    "\n",
    "    def _unicode_art_(self):\n",
    "        from sage.typeset.unicode_art import UnicodeArt\n",
    "        from sage.typeset.symbols import *\n",
    "        st = unicode_left_square_bracket.character_art(2)\n",
    "        st += unicode_art('unicode'+\"\\n\"+'art')\n",
    "        st += unicode_right_square_bracket.character_art(2)\n",
    "        return st\n"
   ]
  },
  {
   "cell_type": "markdown",
   "metadata": {
    "collapsed": false,
    "slideshow": {
     "slide_type": "subslide"
    }
   },
   "source": [
    "## Representations\n",
    "\n",
    "Since we set the display to plain, when we ask for `S` we will get whatever is in `__repr__`:"
   ]
  },
  {
   "cell_type": "code",
   "execution_count": 0,
   "metadata": {
    "collapsed": false,
    "slideshow": {
     "slide_type": "fragment"
    }
   },
   "outputs": [
   ],
   "source": [
    "S = SO()\n",
    "S"
   ]
  },
  {
   "cell_type": "markdown",
   "metadata": {
    "collapsed": false,
    "slideshow": {
     "slide_type": "subslide"
    }
   },
   "source": [
    "### On the other hand, everything returns what we would expect"
   ]
  },
  {
   "cell_type": "code",
   "execution_count": 0,
   "metadata": {
    "collapsed": false,
    "slideshow": {
     "slide_type": "fragment"
    }
   },
   "outputs": [
   ],
   "source": [
    "latex(S)"
   ]
  },
  {
   "cell_type": "code",
   "execution_count": 0,
   "metadata": {
    "collapsed": false,
    "slideshow": {
     "slide_type": "fragment"
    }
   },
   "outputs": [
   ],
   "source": [
    "str(S)"
   ]
  },
  {
   "cell_type": "code",
   "execution_count": 0,
   "metadata": {
    "collapsed": false,
    "slideshow": {
     "slide_type": "fragment"
    }
   },
   "outputs": [
   ],
   "source": [
    "ascii_art(S)"
   ]
  },
  {
   "cell_type": "code",
   "execution_count": 0,
   "metadata": {
    "collapsed": false,
    "slideshow": {
     "slide_type": "fragment"
    }
   },
   "outputs": [
   ],
   "source": [
    "unicode_art(S)"
   ]
  },
  {
   "cell_type": "markdown",
   "metadata": {
    "collapsed": false,
    "slideshow": {
     "slide_type": "subslide"
    }
   },
   "source": [
    "**Note that by default `S.latex()` is not defined as we would need to define it in the object**"
   ]
  },
  {
   "cell_type": "code",
   "execution_count": 0,
   "metadata": {
    "collapsed": false,
    "scrolled": true,
    "slideshow": {
     "slide_type": "fragment"
    }
   },
   "outputs": [
   ],
   "source": [
    "S.latex()"
   ]
  },
  {
   "cell_type": "markdown",
   "metadata": {
    "collapsed": false,
    "slideshow": {
     "slide_type": "subslide"
    }
   },
   "source": [
    "## $\\LaTeX$ colored glasses 🤩\n",
    "\n",
    "What happens if we change the display? For fun, let's change the display to latex and see what happens."
   ]
  },
  {
   "cell_type": "code",
   "execution_count": 0,
   "metadata": {
    "collapsed": false,
    "scrolled": true,
    "slideshow": {
     "slide_type": "fragment"
    }
   },
   "outputs": [
   ],
   "source": [
    "%display latex\n",
    "S"
   ]
  },
  {
   "cell_type": "markdown",
   "metadata": {
    "collapsed": false,
    "slideshow": {
     "slide_type": "fragment"
    }
   },
   "source": [
    "In other words, the representation automatically gets switched to latex! The other functions will also now automatically be converted to \"latex expressions\":"
   ]
  },
  {
   "cell_type": "code",
   "execution_count": 0,
   "metadata": {
    "collapsed": false,
    "slideshow": {
     "slide_type": "fragment"
    }
   },
   "outputs": [
   ],
   "source": [
    "latex(S)"
   ]
  },
  {
   "cell_type": "code",
   "execution_count": 0,
   "metadata": {
    "collapsed": false,
    "slideshow": {
     "slide_type": "fragment"
    }
   },
   "outputs": [
   ],
   "source": [
    "ascii_art(S)"
   ]
  },
  {
   "cell_type": "markdown",
   "metadata": {
    "collapsed": false,
    "slideshow": {
     "slide_type": "fragment"
    }
   },
   "source": [
    "etc."
   ]
  },
  {
   "cell_type": "markdown",
   "metadata": {
    "collapsed": false,
    "slideshow": {
     "slide_type": "slide"
    }
   },
   "source": [
    "## If we create an arbitrary object, what happens?\n",
    "\n",
    "Another key point is that `SageObject` is only required for ascii and unicode art. For all other things, everything works regardless of the object type."
   ]
  },
  {
   "cell_type": "code",
   "execution_count": 0,
   "metadata": {
    "collapsed": false,
    "slideshow": {
     "slide_type": "subslide"
    }
   },
   "outputs": [
   ],
   "source": [
    "r\"\"\"\n",
    "An arbitrary object.\n",
    "\"\"\"\n",
    "class OO():\n",
    "    def __repr__(self):\n",
    "        return 'Non-SageObject Object'\n",
    "\n",
    "    def _latex_(self):\n",
    "        return LatexExpr('\\\\text{Some random latex: } T=w^2')\n",
    "\n",
    "    def __str__(self):\n",
    "        return 'Stringy'\n",
    "\n",
    "    def _ascii_art_(self):\n",
    "        from sage.typeset.ascii_art import AsciiArt\n",
    "        st = ['|ascii|','|art  |']\n",
    "        return AsciiArt(st)\n",
    "\n",
    "    def _unicode_art_(self):\n",
    "        from sage.typeset.unicode_art import UnicodeArt\n",
    "        from sage.typeset.symbols import *\n",
    "        st = unicode_left_square_bracket.character_art(2)\n",
    "        st += unicode_art('unicode'+\"\\n\"+'art')\n",
    "        st += unicode_right_square_bracket.character_art(2)\n",
    "        return st\n"
   ]
  },
  {
   "cell_type": "code",
   "execution_count": 0,
   "metadata": {
    "collapsed": false,
    "slideshow": {
     "slide_type": "subslide"
    }
   },
   "outputs": [
   ],
   "source": [
    "%display plain\n",
    "T = OO()\n",
    "T"
   ]
  },
  {
   "cell_type": "code",
   "execution_count": 0,
   "metadata": {
    "collapsed": false,
    "slideshow": {
     "slide_type": "fragment"
    }
   },
   "outputs": [
   ],
   "source": [
    "latex(T)"
   ]
  },
  {
   "cell_type": "code",
   "execution_count": 0,
   "metadata": {
    "collapsed": false,
    "slideshow": {
     "slide_type": "fragment"
    }
   },
   "outputs": [
   ],
   "source": [
    "ascii_art(T)"
   ]
  },
  {
   "cell_type": "code",
   "execution_count": 0,
   "metadata": {
    "collapsed": false,
    "slideshow": {
     "slide_type": "fragment"
    }
   },
   "outputs": [
   ],
   "source": [
    "unicode_art(T)"
   ]
  },
  {
   "cell_type": "markdown",
   "metadata": {
    "collapsed": false,
    "slideshow": {
     "slide_type": "slide"
    }
   },
   "source": [
    "# Now for some TikZ! 😍\n",
    "\n",
    "In essence, we treat TikZ like normal latex code. Here's a (not very elegant) example:"
   ]
  },
  {
   "cell_type": "code",
   "execution_count": 0,
   "metadata": {
    "collapsed": false,
    "jupyter": {
    },
    "slideshow": {
     "slide_type": "subslide"
    }
   },
   "outputs": [
   ],
   "source": [
    "class tikz():\n",
    "    def _latex_(self):\n",
    "        return LatexExpr('\\\\begin{tikzpicture}[font=\\\\LARGE] \\n\\\n",
    "% Figure parameters (tta and k needs to have the same sign) \\n\\\n",
    "% They can be modified at will \\n\\\n",
    "\\\\def \\\\tta{ -10.00000000000000 } % Defines the first angle of perspective \\n\\\n",
    "\\\\def \\\\k{    -3.00000000000000 } % Factor for second angle of perspective \\n\\\n",
    "\\\\def \\\\l{     6.00000000000000 } % Defines the width  of the parallelepiped \\n\\\n",
    "\\\\def \\\\d{     5.00000000000000 } % Defines the depth  of the parallelepiped \\n\\\n",
    "\\\\def \\\\h{     7.00000000000000 } % Defines the heigth of the parallelepiped \\n\\\n",
    "\\n\\\n",
    "% The vertices A,B,C,D define the reference plan (vertical) \\n\\\n",
    "\\\\coordinate (A) at (0,0); \\n\\\n",
    "\\\\coordinate (B) at ({-\\\\h*sin(\\\\tta)},{\\\\h*cos(\\\\tta)}); \\n\\\n",
    "\\\\coordinate (C) at ({-\\\\h*sin(\\\\tta)-\\\\d*sin(\\\\k*\\\\tta)}, \\n\\\n",
    "                    {\\\\h*cos(\\\\tta)+\\\\d*cos(\\\\k*\\\\tta)}); \\n\\\n",
    "\\\\coordinate (D) at ({-\\\\d*sin(\\\\k*\\\\tta)},{\\\\d*cos(\\\\k*\\\\tta)}); \\n\\\n",
    "\\n\\\n",
    "% The vertices Ap,Bp,Cp,Dp define a plane translated from the \\n\\\n",
    "% reference plane by the width of the parallelepiped \\n\\\n",
    "\\\\coordinate (Ap) at (\\\\l,0); \\n\\\n",
    "\\\\coordinate (Bp) at ({\\\\l-\\\\h*sin(\\\\tta)},{\\\\h*cos(\\\\tta)}); \\n\\\n",
    "\\\\coordinate (Cp) at ({\\\\l-\\\\h*sin(\\\\tta)-\\\\d*sin(\\\\k*\\\\tta)}, \\n\\\n",
    "                     {\\\\h*cos(\\\\tta)+\\\\d*cos(\\\\k*\\\\tta)}); \\n\\\n",
    "\\\\coordinate (Dp) at ({\\\\l-\\\\d*sin(\\\\k*\\\\tta)},{\\\\d*cos(\\\\k*\\\\tta)}); \\n\\\n",
    " \\n\\\n",
    "% Marking the vertices of the tetrahedron (red) \\n\\\n",
    "% and of the parallelepiped (black) \\n\\\n",
    "\\\\fill[black]  (A) circle [radius=2pt]; \\n\\\n",
    "\\\\fill[red]    (B) circle [radius=2pt]; \\n\\\n",
    "\\\\fill[black]  (C) circle [radius=2pt]; \\n\\\n",
    "\\\\fill[red]    (D) circle [radius=2pt]; \\n\\\n",
    "\\\\fill[red]   (Ap) circle [radius=2pt]; \\n\\\n",
    "\\\\fill[black] (Bp) circle [radius=2pt]; \\n\\\n",
    "\\\\fill[red]   (Cp) circle [radius=2pt]; \\n\\\n",
    "\\\\fill[black] (Dp) circle [radius=2pt]; \\n\\\n",
    " \\n\\\n",
    "% painting first the three visible faces of the tetrahedron \\n\\\n",
    "\\\\filldraw[draw=red,bottom color=red!50!black, top color=cyan!50] (B) -- (Cp) -- (D); \\n\\\n",
    "\\\\filldraw[draw=red,bottom color=red!50!black, top color=cyan!50] (B) -- (D)  -- (Ap); \\n\\\n",
    "\\\\filldraw[draw=red,bottom color=red!50!black, top color=cyan!50] (B) -- (Cp) -- (Ap); \\n\\\n",
    " \\n\\\n",
    "% Draw the edges of the tetrahedron \\n\\\n",
    "\\\\draw[red,-,very thick] (Ap) --  (D) \\n\\\n",
    "                        (Ap) --  (B) \\n\\\n",
    "                        (Ap) -- (Cp) \\n\\\n",
    "                        (B)  --  (D) \\n\\\n",
    "                        (Cp) --  (D) \\n\\\n",
    "                        (B)  -- (Cp); \\n\\\n",
    " \\n\\\n",
    "% Draw the visible edges of the parallelepiped \\n\\\n",
    "\\\\draw [-,thin] (B)  --  (A) \\n\\\n",
    "               (Ap) -- (Bp) \\n\\\n",
    "               (B)  --  (C) \\n\\\n",
    "               (D)  --  (C) \\n\\\n",
    "               (A)  --  (D) \\n\\\n",
    "               (Ap) --  (A) \\n\\\n",
    "               (Cp) --  (C) \\n\\\n",
    "               (Bp) --  (B) \\n\\\n",
    "               (Bp) -- (Cp); \\n\\\n",
    " \\n\\\n",
    "% Draw the hidden edges of the parallelepiped \\n\\\n",
    "\\\\draw [gray,-,thin] (Dp) -- (Cp); \\n\\\n",
    "                    (Dp) --  (D); \\n\\\n",
    "                    (Ap) -- (Dp); \\n\\\n",
    " \\n\\\n",
    "% Name the vertices (the names are not consistent \\n\\\n",
    "%  with the node name, but it makes the programming easier) \\n\\\n",
    "\\\\draw (Ap) node [right]           {$A$} \\n\\\n",
    "      (Bp) node [right, gray]     {$F$} \\n\\\n",
    "      (Cp) node [right]           {$D$} \\n\\\n",
    "      (C)  node [left,gray]       {$E$} \\n\\\n",
    "      (D)  node [left]            {$B$} \\n\\\n",
    "      (A)  node [left,gray]       {$G$} \\n\\\n",
    "      (B)  node [above left=+5pt] {$C$} \\n\\\n",
    "      (Dp) node [right,gray]      {$H$}; \\n\\\n",
    " \\n\\\n",
    "% Drawing again vertex $C$, node (B) because it disappeared behind the edges. \\n\\\n",
    "% Drawing again vertex $H$, node (Dp) because it disappeared behind the edges. \\n\\\n",
    "\\\\fill[red]   (B) circle [radius=2pt]; \\n\\\n",
    "\\\\fill[gray] (Dp) circle [radius=2pt]; \\n\\\n",
    " \\n\\\n",
    "% From the reference and this example one can easily draw \\n\\\n",
    "% the twin tetrahedron jointly to this one. \\n\\\n",
    "% Drawing the edges of the twin tetrahedron \\n\\\n",
    "% switching the p_s: A <-> Ap, etc... \\n\\\n",
    "\\\\draw[red,-,dashed, thin] (A)  -- (Dp) \\n\\\n",
    "                          (A)  -- (Bp) \\n\\\n",
    "                          (A)  --  (C) \\n\\\n",
    "                          (Bp) -- (Dp) \\n\\\n",
    "                          (C)  -- (Dp) \\n\\\n",
    "                          (Bp) --  (C); \\n\\\n",
    "\\\\end{tikzpicture}')"
   ]
  },
  {
   "cell_type": "markdown",
   "metadata": {
    "collapsed": false,
    "slideshow": {
     "slide_type": "subslide"
    }
   },
   "source": [
    "Testing this, we get:"
   ]
  },
  {
   "cell_type": "code",
   "execution_count": 0,
   "metadata": {
    "collapsed": false,
    "slideshow": {
     "slide_type": "fragment"
    }
   },
   "outputs": [
   ],
   "source": [
    "t = tikz()"
   ]
  },
  {
   "cell_type": "code",
   "execution_count": 0,
   "metadata": {
    "collapsed": false,
    "slideshow": {
     "slide_type": "fragment"
    }
   },
   "outputs": [
   ],
   "source": [
    "latex(t)"
   ]
  },
  {
   "cell_type": "markdown",
   "metadata": {
    "collapsed": false,
    "slideshow": {
     "slide_type": "slide"
    }
   },
   "source": [
    "# Using Python's power 💪\n",
    "\n",
    "Let's now use python's power to (in a nicer way) do a tikz image. Let's try and draw a two-dimensional root system of the type $A_2$ Coxeter group.\n",
    "\n",
    "Let's first create a class that will handle what we want."
   ]
  },
  {
   "cell_type": "code",
   "execution_count": 0,
   "metadata": {
    "collapsed": false,
    "slideshow": {
     "slide_type": "fragment"
    }
   },
   "outputs": [
   ],
   "source": [
    "r\"\"\"\n",
    "A very bad object that returns an object for tikz of vectors\n",
    "\"\"\"\n",
    "class vectorsTikz():\n",
    "    def __init__(self,vectors):\n",
    "        self._v = vectors\n",
    "\n",
    "    def _latex_(self):\n",
    "        le = LatexExpr('\\\\begin{tikzpicture}\\n')\n",
    "        for v in self._v:\n",
    "            le += LatexExpr('\\\\draw[->] (0,0) -- ')\n",
    "            le += LatexExpr(v)\n",
    "            le += LatexExpr(';\\n')\n",
    "        le += LatexExpr('\\\\end{tikzpicture}')\n",
    "        return le"
   ]
  },
  {
   "cell_type": "markdown",
   "metadata": {
    "collapsed": false,
    "slideshow": {
     "slide_type": "subslide"
    }
   },
   "source": [
    "## Let's use it!"
   ]
  },
  {
   "cell_type": "code",
   "execution_count": 0,
   "metadata": {
    "collapsed": false,
    "slideshow": {
     "slide_type": "fragment"
    }
   },
   "outputs": [
   ],
   "source": [
    "# Get a Coxeter Group of type A_2\n",
    "W = CoxeterGroup(['A',2])\n",
    "\n",
    "# Let the roots be the vectors\n",
    "vectors = W.roots()\n",
    "\n",
    "# Make our really bad object\n",
    "V = vectorsTikz(vectors)\n",
    "\n",
    "# Let's get the latex!\n",
    "latex(V)"
   ]
  }
 ],
 "metadata": {
  "kernelspec": {
   "display_name": "SageMath (stable)",
   "language": "sagemath",
   "metadata": {
    "cocalc": {
     "description": "Open-source mathematical software system",
     "priority": 10,
     "url": "https://www.sagemath.org/"
    }
   },
   "name": "sagemath"
  },
  "language_info": {
   "codemirror_mode": {
    "name": "ipython",
    "version": 2
   },
   "file_extension": ".py",
   "mimetype": "text/x-python",
   "name": "python",
   "nbconvert_exporter": "python",
   "pygments_lexer": "ipython2",
   "version": "2.7.15"
  }
 },
 "nbformat": 4,
 "nbformat_minor": 0
}