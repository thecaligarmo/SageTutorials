{
 "cells": [
  {
   "cell_type": "markdown",
   "metadata": {
    "collapsed": false,
    "slideshow": {
     "slide_type": "slide"
    }
   },
   "source": [
    "<p>\n",
    "    <h1 style=\"margin:0px;\">Introduction to Python</h1>\n",
    "    <h4 style=\"margin:0px; color: #666\">using sage</h4>\n",
    "    <br />\n",
    "    Sage + Python = Awesomeness\n",
    "</p>"
   ]
  },
  {
   "cell_type": "markdown",
   "metadata": {
    "collapsed": false,
    "slideshow": {
     "slide_type": "slide"
    }
   },
   "source": [
    "<h2 style=\"margin-bottom:0px\">First things first:</h2>\n",
    "<h4>Tabbing &amp; Questions</h4>\n",
    "<p>If you don't know what a function does, type the function, add a ? and hit shit+enter for a quick description.</p>"
   ]
  },
  {
   "cell_type": "markdown",
   "metadata": {
    "collapsed": false,
    "slideshow": {
     "slide_type": "fragment"
    }
   },
   "source": [
    "<p>Try typing:</p>\n",
    "<blockquote><code>fibonacci?</code></blockquote>"
   ]
  },
  {
   "cell_type": "code",
   "execution_count": 0,
   "metadata": {
    "collapsed": false,
    "slideshow": {
     "slide_type": "fragment"
    }
   },
   "outputs": [
   ],
   "source": [
    "# Try it here!"
   ]
  },
  {
   "cell_type": "markdown",
   "metadata": {
    "collapsed": false,
    "slideshow": {
     "slide_type": "subslide"
    }
   },
   "source": [
    "Congrats! For the next parts, go ahead and read the information and hit `shift+enter` each time you want to test something out.\n",
    "\n",
    "Try doing `shift+enter` on the following to test it out. (The first lines makes everything look pretty by using latex =D)"
   ]
  },
  {
   "cell_type": "code",
   "execution_count": 0,
   "metadata": {
    "collapsed": false,
    "slideshow": {
     "slide_type": "fragment"
    }
   },
   "outputs": [
   ],
   "source": [
    "%display latex\n",
    "var('x','i','u')\n",
    "f = (9*x - 7*i > 3 * (3*x - 7*u))\n",
    "3*f.solve(i)[0][0]"
   ]
  },
  {
   "cell_type": "markdown",
   "metadata": {
    "collapsed": false,
    "slideshow": {
     "slide_type": "slide"
    }
   },
   "source": [
    "<h2 style=\"margin-bottom:0px\">Second:</h2>\n",
    "<h4>Data Types</h4>\n",
    "Luckily there are a finite number of data types in Python. This list includes\n",
    "<ul>\n",
    "    <li>Booleans</li>\n",
    "    <li>Integers</li>\n",
    "    <li>Floats</li>\n",
    "    <li>Strings</li>\n",
    "    <li>Sets</li>\n",
    "    <li>Lists</li>\n",
    "    <li>Tuples</li>\n",
    "    <li>Dictionaries</li>\n",
    "</ul>\n",
    "\n",
    "Python is a dynamic language, so there is no need to declare what variable type you are using. You can also change the type of your variables. To know what type a variable is you can just ask for it's type using the <code>type</code> function. Or you can ask directly if the object is of a certain type using <code>isinstance</code>.<br />\n",
    "<br />\n",
    "Full details can be found in the <a href=\"https://docs.python.org/3/library/stdtypes.html\">python docs</a>."
   ]
  },
  {
   "cell_type": "markdown",
   "metadata": {
    "collapsed": false,
    "slideshow": {
     "slide_type": "subslide"
    }
   },
   "source": [
    "Let's first set-up a string and an integer. Notice how their types are different."
   ]
  },
  {
   "cell_type": "code",
   "execution_count": 0,
   "metadata": {
    "collapsed": false,
    "slideshow": {
     "slide_type": "fragment"
    }
   },
   "outputs": [
   ],
   "source": [
    "a = \"123\"\n",
    "print type(a)\n",
    "\n",
    "a = 123\n",
    "print type(a)"
   ]
  },
  {
   "cell_type": "code",
   "execution_count": 0,
   "metadata": {
    "collapsed": false,
    "slideshow": {
     "slide_type": "fragment"
    }
   },
   "outputs": [
   ],
   "source": [
    "print isinstance(a, Integer)\n",
    "print isinstance(a, str)"
   ]
  },
  {
   "cell_type": "markdown",
   "metadata": {
    "collapsed": false,
    "slideshow": {
     "slide_type": "subslide"
    }
   },
   "source": [
    "<h3>Booleans</h3>\n",
    "<p>\n",
    "    <code>bool</code> has one of two values: <code>True</code> and <code>False</code>.\n",
    "</p>\n",
    "<p>\n",
    "    There are three boolean operators: <code>and</code>, <code>or</code>, &amp; <code>not</code>.\n",
    "</p>\n",
    "<p>\n",
    "    You can convert something into a boolean by the <code>bool</code> function.\n",
    "</p>\n",
    "<p>\n",
    "    Notice in the following that <code>True</code> returns <code>'bool'</code> as its type.\n",
    "</p>"
   ]
  },
  {
   "cell_type": "code",
   "execution_count": 0,
   "metadata": {
    "collapsed": false,
    "slideshow": {
     "slide_type": "fragment"
    }
   },
   "outputs": [
   ],
   "source": [
    "type(True)"
   ]
  },
  {
   "cell_type": "markdown",
   "metadata": {
    "collapsed": false,
    "slideshow": {
     "slide_type": "subslide"
    }
   },
   "source": [
    "Notice that when converting something to boolean, we normally get True, except for when we input $0$."
   ]
  },
  {
   "cell_type": "code",
   "execution_count": 0,
   "metadata": {
    "collapsed": false,
    "slideshow": {
     "slide_type": "fragment"
    }
   },
   "outputs": [
   ],
   "source": [
    "print bool(1)\n",
    "print bool(0)\n",
    "print bool(-1)"
   ]
  },
  {
   "cell_type": "markdown",
   "metadata": {
    "collapsed": false,
    "slideshow": {
     "slide_type": "fragment"
    }
   },
   "source": [
    "In particular, the following give us False:\n",
    "+ The integer 0\n",
    "+ The string ''"
   ]
  },
  {
   "cell_type": "markdown",
   "metadata": {
    "collapsed": false,
    "slideshow": {
     "slide_type": "subslide"
    }
   },
   "source": [
    "We can also do operations on booleans using `and`, `or`, `not`, etc."
   ]
  },
  {
   "cell_type": "code",
   "execution_count": 0,
   "metadata": {
    "collapsed": false,
    "slideshow": {
     "slide_type": "fragment"
    }
   },
   "outputs": [
   ],
   "source": [
    "True and False"
   ]
  },
  {
   "cell_type": "code",
   "execution_count": 0,
   "metadata": {
    "collapsed": false,
    "slideshow": {
     "slide_type": "fragment"
    }
   },
   "outputs": [
   ],
   "source": [
    "True and True"
   ]
  },
  {
   "cell_type": "code",
   "execution_count": 0,
   "metadata": {
    "collapsed": false,
    "slideshow": {
     "slide_type": "fragment"
    }
   },
   "outputs": [
   ],
   "source": [
    "False and False"
   ]
  },
  {
   "cell_type": "code",
   "execution_count": 0,
   "metadata": {
    "collapsed": false,
    "slideshow": {
     "slide_type": "fragment"
    }
   },
   "outputs": [
   ],
   "source": [
    "not True"
   ]
  },
  {
   "cell_type": "code",
   "execution_count": 0,
   "metadata": {
    "collapsed": false,
    "slideshow": {
     "slide_type": "fragment"
    }
   },
   "outputs": [
   ],
   "source": [
    "False or True"
   ]
  },
  {
   "cell_type": "markdown",
   "metadata": {
    "collapsed": false,
    "slideshow": {
     "slide_type": "subslide"
    }
   },
   "source": [
    "<h3>Integers/Floats</h3>\n",
    "<p>\n",
    "    <code>int</code> is the python built-in integer type. The problem with the python version is the integer conversion problem.\n",
    "    Due to this restriction, Sage uses its own type called <code>Integer</code>.\n",
    "</p>\n",
    "<p>\n",
    "    <code>float</code> is the python built-in rational number type. Due to similar restrictions, Sage uses the <code>RealLiteral</code> type.\n",
    "</p>\n",
    "\n",
    "Look at what happens if we force numbers to use python's integers."
   ]
  },
  {
   "cell_type": "code",
   "execution_count": 0,
   "metadata": {
    "collapsed": false,
    "slideshow": {
     "slide_type": "fragment"
    }
   },
   "outputs": [
   ],
   "source": [
    "int(5)/int(2)"
   ]
  },
  {
   "cell_type": "markdown",
   "metadata": {
    "collapsed": false,
    "slideshow": {
     "slide_type": "fragment"
    }
   },
   "source": [
    "This is definitely not true!!!"
   ]
  },
  {
   "cell_type": "markdown",
   "metadata": {
    "collapsed": false,
    "slideshow": {
     "slide_type": "subslide"
    }
   },
   "source": [
    " In order to get around this, sage uses its own definition of integer using the integer ring."
   ]
  },
  {
   "cell_type": "code",
   "execution_count": 0,
   "metadata": {
    "collapsed": false,
    "slideshow": {
     "slide_type": "fragment"
    }
   },
   "outputs": [
   ],
   "source": [
    "print type(1)\n",
    "print type(1.2)"
   ]
  },
  {
   "cell_type": "markdown",
   "metadata": {
    "collapsed": false,
    "slideshow": {
     "slide_type": "subslide"
    }
   },
   "source": [
    "<h3>\n",
    "    Strings\n",
    "</h3>\n",
    "<p>\n",
    "    The <code>str</code> type is fairly common. You can use single or double quotes. Additionally you can use triple quotes if you want a multi-line string. You can also fill a string using dictionary substitutions as can be seen in the following example.\n",
    "</p>"
   ]
  },
  {
   "cell_type": "code",
   "execution_count": 0,
   "metadata": {
    "collapsed": false,
    "slideshow": {
     "slide_type": "fragment"
    }
   },
   "outputs": [
   ],
   "source": [
    "aram = 'Aram'\n",
    "print \"\"\"Hello %s,\n",
    "You're a pretty cool person.\n",
    "- %s\n",
    "\"\"\" % ('human', aram)"
   ]
  },
  {
   "cell_type": "markdown",
   "metadata": {
    "collapsed": false,
    "slideshow": {
     "slide_type": "subslide"
    }
   },
   "source": [
    "## Concatenation\n",
    "\n",
    "You can concatenate strings either using `,` or `+`. The difference is that `,` will auto-type convert and will add spaces automatically. `+` on the other hand assumes everything is a `str` variable and will not add spaces."
   ]
  },
  {
   "cell_type": "code",
   "execution_count": 0,
   "metadata": {
    "collapsed": false,
    "slideshow": {
     "slide_type": "fragment"
    }
   },
   "outputs": [
   ],
   "source": [
    "print a, \"factors into\", a.factor()"
   ]
  },
  {
   "cell_type": "code",
   "execution_count": 0,
   "metadata": {
    "collapsed": false,
    "slideshow": {
     "slide_type": "fragment"
    }
   },
   "outputs": [
   ],
   "source": [
    "print str(a) + \" factors into \" + str(a.factor())"
   ]
  },
  {
   "cell_type": "markdown",
   "metadata": {
    "collapsed": false,
    "slideshow": {
     "slide_type": "slide"
    }
   },
   "source": [
    "<h3 style=\"margin-bottom:0px;\">Sets, lists, tuples, and dictionaries</h3>\n",
    "<h5 style=\"margin-top:0px; color: #666\">Because, why not.</h5>\n",
    "<p>\n",
    "    There are four more (complicated) types:\n",
    "</p>\n",
    "<ul>\n",
    "    <li><code>set</code> - is a set of items with no multiplicites or order.</li>\n",
    "    <li><code>list</code> - is an ordered list of items</li>\n",
    "    <li><code>tuple</code> - is the same as a list, but it is immutable (it cannot be changed).</li>\n",
    "    <li><code>dict</code> - Is an associative array which associates values with keys.</li>\n",
    "</ul>"
   ]
  },
  {
   "cell_type": "markdown",
   "metadata": {
    "collapsed": false,
    "slideshow": {
     "slide_type": "subslide"
    }
   },
   "source": [
    "<h3>Some basic commands</h3>\n",
    "<h4>\n",
    "    Constructing stuff\n",
    "</h4>\n",
    "<p>\n",
    "    This is how you can construct a <code>set</code>, <code>list</code>, <code>tuple</code> and <code>dict</code>.\n",
    "</p>"
   ]
  },
  {
   "cell_type": "code",
   "execution_count": 0,
   "metadata": {
    "collapsed": false,
    "slideshow": {
     "slide_type": "fragment"
    }
   },
   "outputs": [
   ],
   "source": [
    "S = set([1,2,3])\n",
    "L = [1,2,3]\n",
    "T = (1,2,3)\n",
    "D = {2:1, 3:2, 4:3}\n",
    "\n",
    "print S\n",
    "print L\n",
    "print T\n",
    "print D"
   ]
  },
  {
   "cell_type": "markdown",
   "metadata": {
    "collapsed": false,
    "slideshow": {
     "slide_type": "subslide"
    }
   },
   "source": [
    "To have only one element in your object, it's generally normal:"
   ]
  },
  {
   "cell_type": "code",
   "execution_count": 0,
   "metadata": {
    "collapsed": false,
    "slideshow": {
     "slide_type": "fragment"
    }
   },
   "outputs": [
   ],
   "source": [
    "print set([1])\n",
    "print [1]\n",
    "print {1:2}"
   ]
  },
  {
   "cell_type": "markdown",
   "metadata": {
    "collapsed": false,
    "slideshow": {
     "slide_type": "fragment"
    }
   },
   "source": [
    "Note that for tuples, you can't just have 1 element! Look at what happens if try and define a tuple with just one element."
   ]
  },
  {
   "cell_type": "code",
   "execution_count": 0,
   "metadata": {
    "collapsed": false,
    "slideshow": {
     "slide_type": "fragment"
    }
   },
   "outputs": [
   ],
   "source": [
    "print (1)\n",
    "print (1,2)"
   ]
  },
  {
   "cell_type": "markdown",
   "metadata": {
    "collapsed": false,
    "slideshow": {
     "slide_type": "subslide"
    }
   },
   "source": [
    "If you <i>reaaaaalllly</i> want a tuple with one element, you need to add a comma after the first element to force it to be a tuple."
   ]
  },
  {
   "cell_type": "code",
   "execution_count": 0,
   "metadata": {
    "collapsed": false,
    "slideshow": {
     "slide_type": "fragment"
    }
   },
   "outputs": [
   ],
   "source": [
    "(1,)"
   ]
  },
  {
   "cell_type": "markdown",
   "metadata": {
    "collapsed": false,
    "slideshow": {
     "slide_type": "subslide"
    }
   },
   "source": [
    "<h4>\n",
    "    How many stuff does it have?\n",
    "</h4>\n",
    "Use the <code>len</code> function."
   ]
  },
  {
   "cell_type": "code",
   "execution_count": 0,
   "metadata": {
    "collapsed": false,
    "slideshow": {
     "slide_type": "fragment"
    }
   },
   "outputs": [
   ],
   "source": [
    "print len(S)\n",
    "print len(L)\n",
    "print len(T)\n",
    "print len(D)"
   ]
  },
  {
   "cell_type": "markdown",
   "metadata": {
    "collapsed": false,
    "slideshow": {
     "slide_type": "subslide"
    }
   },
   "source": [
    "<h4>\n",
    "    Is this object present?\n",
    "</h4>\n",
    "\n",
    "Use the <code>in</code> operator."
   ]
  },
  {
   "cell_type": "code",
   "execution_count": 0,
   "metadata": {
    "collapsed": false,
    "slideshow": {
     "slide_type": "fragment"
    }
   },
   "outputs": [
   ],
   "source": [
    "S = set([1,2,3])\n",
    "L = [1,2,3]\n",
    "T = (1,2,3)\n",
    "D = {2:1, 3:2, 4:3}\n",
    "\n",
    "print 1 in S\n",
    "print 1 in L\n",
    "print 1 in T\n",
    "print 1 in D"
   ]
  },
  {
   "cell_type": "code",
   "execution_count": 0,
   "metadata": {
    "collapsed": false,
    "slideshow": {
     "slide_type": "fragment"
    }
   },
   "outputs": [
   ],
   "source": [
    "print 4 not in S\n",
    "print 4 not in L\n",
    "print 4 not in T\n",
    "print 4 not in D"
   ]
  },
  {
   "cell_type": "markdown",
   "metadata": {
    "collapsed": false,
    "slideshow": {
     "slide_type": "fragment"
    }
   },
   "source": [
    "Did you notice how for `dictionaries` the in operator is looking at the key and not the value? Remember this forever!"
   ]
  },
  {
   "cell_type": "markdown",
   "metadata": {
    "collapsed": false,
    "slideshow": {
     "slide_type": "subslide"
    }
   },
   "source": [
    "<h4>\n",
    "    How do I access elements?\n",
    "</h4>\n",
    "Use square brackets to access individual items. For dictionaries you use the key. For lists and tuples the counting begins at $0$. Sets have no order so you can't \"access\" things."
   ]
  },
  {
   "cell_type": "code",
   "execution_count": 0,
   "metadata": {
    "collapsed": false,
    "slideshow": {
     "slide_type": "fragment"
    }
   },
   "outputs": [
   ],
   "source": [
    "L = [1,2,3]\n",
    "T = (1,2,3)\n",
    "D = {2:1, 3:2, 4:3}\n",
    "print L[0]\n",
    "print T[0]\n",
    "print D[2]"
   ]
  },
  {
   "cell_type": "markdown",
   "metadata": {
    "collapsed": false,
    "slideshow": {
     "slide_type": "subslide"
    }
   },
   "source": [
    "<h4>\n",
    "    Can I modify things?\n",
    "</h4>\n",
    "Only lists and dictionaries! Tuples are immutable, so they can't be altered."
   ]
  },
  {
   "cell_type": "code",
   "execution_count": 0,
   "metadata": {
    "collapsed": false,
    "slideshow": {
     "slide_type": "fragment"
    }
   },
   "outputs": [
   ],
   "source": [
    "L[0] = 5\n",
    "D[2] = 5\n",
    "print L\n",
    "print D"
   ]
  },
  {
   "cell_type": "markdown",
   "metadata": {
    "collapsed": false,
    "slideshow": {
     "slide_type": "subslide"
    }
   },
   "source": [
    "<h4>\n",
    "    How do I add new things?\n",
    "</h4>\n",
    "There are many ways my young padawan.\n",
    "<h5>\n",
    "    Sets - Use the <code>add</code> function\n",
    "</h5>\n",
    "<h5>\n",
    "    Lists - You can <code>append</code> a list at the end, <code>extend</code> a list with another list, or just plain add two lists together.\n",
    "</h5>\n",
    "<h5>\n",
    "    Tuples - They are immutable, so we can't alter them! We can add two of them together and create a new tuple though.\n",
    "</h5>\n",
    "<h5>\n",
    "    Dictionaries - Just add a new key and put in a value.\n",
    "</h5>"
   ]
  },
  {
   "cell_type": "markdown",
   "metadata": {
    "collapsed": false,
    "slideshow": {
     "slide_type": "subslide"
    }
   },
   "source": [
    "### `set` example for adding new things"
   ]
  },
  {
   "cell_type": "code",
   "execution_count": 0,
   "metadata": {
    "collapsed": false,
    "slideshow": {
     "slide_type": "fragment"
    }
   },
   "outputs": [
   ],
   "source": [
    "S = set([1,2,3])\n",
    "S.add(2)\n",
    "S.add(4)\n",
    "S"
   ]
  },
  {
   "cell_type": "markdown",
   "metadata": {
    "collapsed": false,
    "slideshow": {
     "slide_type": "subslide"
    }
   },
   "source": [
    "### `list` example for adding new things"
   ]
  },
  {
   "cell_type": "code",
   "execution_count": 0,
   "metadata": {
    "collapsed": false,
    "slideshow": {
     "slide_type": "fragment"
    }
   },
   "outputs": [
   ],
   "source": [
    "L = [1,2,3]\n",
    "L2 = [\"a\", \"b\"]\n",
    "L3 = [(1,2), (4,5)]\n",
    "\n",
    "L.append(4)\n",
    "L.extend(L2)\n",
    "print L\n",
    "L4 = L2 + L3\n",
    "print L4"
   ]
  },
  {
   "cell_type": "markdown",
   "metadata": {
    "collapsed": false,
    "slideshow": {
     "slide_type": "subslide"
    }
   },
   "source": [
    "### `tuple` example for adding new things\n",
    "\n",
    "Recall that since they are immutable, you can't add directly to a `tuple`"
   ]
  },
  {
   "cell_type": "code",
   "execution_count": 0,
   "metadata": {
    "collapsed": false,
    "slideshow": {
     "slide_type": "fragment"
    }
   },
   "outputs": [
   ],
   "source": [
    "T = (1,2,3)\n",
    "T2 = (0,0)\n",
    "T3 = T + T2\n",
    "print T3"
   ]
  },
  {
   "cell_type": "markdown",
   "metadata": {
    "collapsed": false,
    "slideshow": {
     "slide_type": "subslide"
    }
   },
   "source": [
    "### `dict` example for adding new things"
   ]
  },
  {
   "cell_type": "code",
   "execution_count": 0,
   "metadata": {
    "collapsed": false,
    "slideshow": {
     "slide_type": "fragment"
    }
   },
   "outputs": [
   ],
   "source": [
    "D = {2:1, 3:2, 4:3}\n",
    "D[10] = fibonacci(10)\n",
    "D[(3,2,1)] = Permutation([3,2,1])\n",
    "D"
   ]
  },
  {
   "cell_type": "markdown",
   "metadata": {
    "collapsed": false,
    "slideshow": {
     "slide_type": "subslide"
    }
   },
   "source": [
    "<strong>Note:</strong> For lists we can't add additional items like we do in dictionaries."
   ]
  },
  {
   "cell_type": "code",
   "execution_count": 0,
   "metadata": {
    "collapsed": false,
    "slideshow": {
     "slide_type": "fragment"
    }
   },
   "outputs": [
   ],
   "source": [
    "L[10] = fibonacci(10)"
   ]
  },
  {
   "cell_type": "markdown",
   "metadata": {
    "collapsed": false,
    "slideshow": {
     "slide_type": "subslide"
    }
   },
   "source": [
    "<strong>Note:</strong> We also can't add mutable items as keys for dictionaries."
   ]
  },
  {
   "cell_type": "code",
   "execution_count": 0,
   "metadata": {
    "collapsed": false,
    "slideshow": {
     "slide_type": "fragment"
    }
   },
   "outputs": [
   ],
   "source": [
    "D[[1]] = 'fail'"
   ]
  },
  {
   "cell_type": "markdown",
   "metadata": {
    "collapsed": false,
    "slideshow": {
     "slide_type": "subslide"
    }
   },
   "source": [
    "<h3>\n",
    "    Russell's paradox\n",
    "</h3>\n",
    "<h5>\n",
    "    Sets of sets can't happen\n",
    "</h5>"
   ]
  },
  {
   "cell_type": "code",
   "execution_count": 0,
   "metadata": {
    "collapsed": false,
    "slideshow": {
     "slide_type": "fragment"
    }
   },
   "outputs": [
   ],
   "source": [
    "S1 = set([1,2,3])\n",
    "S2 = set([S1])\n",
    "S2"
   ]
  },
  {
   "cell_type": "markdown",
   "metadata": {
    "collapsed": false,
    "slideshow": {
     "slide_type": "subslide"
    }
   },
   "source": [
    "If you want a set of a set you need to create a `frozenset`. Frozen sets are immutable and therefore they can be placed in a set."
   ]
  },
  {
   "cell_type": "code",
   "execution_count": 0,
   "metadata": {
    "collapsed": false,
    "slideshow": {
     "slide_type": "fragment"
    }
   },
   "outputs": [
   ],
   "source": [
    "S1 = frozenset([1,2,3])\n",
    "S2 = set([S1])\n",
    "S2"
   ]
  },
  {
   "cell_type": "markdown",
   "metadata": {
    "collapsed": false,
    "slideshow": {
     "slide_type": "subslide"
    }
   },
   "source": [
    "<strong>Exercise:</strong> Look at the following code and make a guess as to what will be displayed."
   ]
  },
  {
   "cell_type": "code",
   "execution_count": 0,
   "metadata": {
    "collapsed": false,
    "slideshow": {
     "slide_type": "fragment"
    }
   },
   "outputs": [
   ],
   "source": [
    "L = [1,\"z\",3,4,5]\n",
    "L.append(\"c\")\n",
    "L = L + [9,10]\n",
    "L[6]"
   ]
  },
  {
   "cell_type": "markdown",
   "metadata": {
    "collapsed": false,
    "slideshow": {
     "slide_type": "subslide"
    }
   },
   "source": [
    "<h4>\n",
    "    But I added too much! How do I delete things I don't want?\n",
    "</h4>"
   ]
  },
  {
   "cell_type": "markdown",
   "metadata": {
    "collapsed": false,
    "slideshow": {
     "slide_type": "fragment"
    }
   },
   "source": [
    "For sets we can just discard the item we want. Note that we must `discard` the actual element and not the 'index' as indices don't exist in a set."
   ]
  },
  {
   "cell_type": "code",
   "execution_count": 0,
   "metadata": {
    "collapsed": false,
    "slideshow": {
     "slide_type": "fragment"
    }
   },
   "outputs": [
   ],
   "source": [
    "S = set([1,2,3])\n",
    "S.discard(2)\n",
    "S"
   ]
  },
  {
   "cell_type": "markdown",
   "metadata": {
    "collapsed": false,
    "slideshow": {
     "slide_type": "subslide"
    }
   },
   "source": [
    "For a `list` we can either delete by index using `del`, we can `pop` an item out, or we can `remove` an item by its value.\n",
    "\n",
    "For `del` you must specify the list with the index you are trying to remove.\n",
    "For `pop` you specify the index as well, but unlike `del`, it will actually return the item removed so you can use it later if you want.\n",
    "For `remove` you specify the value of the thing you want to remove. This is useful if you don't know the index."
   ]
  },
  {
   "cell_type": "code",
   "execution_count": 0,
   "metadata": {
    "collapsed": false,
    "slideshow": {
     "slide_type": "fragment"
    }
   },
   "outputs": [
   ],
   "source": [
    "L = [1,2,3,4,5]\n",
    "del L[1]\n",
    "poppedItem = L.pop(0)\n",
    "L.remove(3)\n",
    "L"
   ]
  },
  {
   "cell_type": "markdown",
   "metadata": {
    "collapsed": false,
    "slideshow": {
     "slide_type": "fragment"
    }
   },
   "source": [
    "<strong>Note:</strong> `remove` will only remove the first time it sees an object. It won't remove all of them."
   ]
  },
  {
   "cell_type": "code",
   "execution_count": 0,
   "metadata": {
    "collapsed": false,
    "slideshow": {
     "slide_type": "fragment"
    }
   },
   "outputs": [
   ],
   "source": [
    "L = [1, 2, 3, 2]\n",
    "L.remove(2)\n",
    "L"
   ]
  },
  {
   "cell_type": "markdown",
   "metadata": {
    "collapsed": false,
    "slideshow": {
     "slide_type": "subslide"
    }
   },
   "source": [
    "You can also use splicing. Splicing won't be covered in full here, but if you're interested, <a href=\"http://pythoncentral.io/how-to-slice-listsarrays-and-tuples-in-python/\">here's a good article</a> on it."
   ]
  },
  {
   "cell_type": "code",
   "execution_count": 0,
   "metadata": {
    "collapsed": false,
    "slideshow": {
     "slide_type": "fragment"
    }
   },
   "outputs": [
   ],
   "source": [
    "L2 = [1,2,3,4,5]\n",
    "L2 = L2[1:3]\n",
    "L2"
   ]
  },
  {
   "cell_type": "code",
   "execution_count": 0,
   "metadata": {
    "collapsed": false,
    "slideshow": {
     "slide_type": "fragment"
    }
   },
   "outputs": [
   ],
   "source": [
    "T = (1,2,3,4,5)\n",
    "T = T[1:3]\n",
    "T"
   ]
  },
  {
   "cell_type": "markdown",
   "metadata": {
    "collapsed": false,
    "slideshow": {
     "slide_type": "subslide"
    }
   },
   "source": [
    "For `dict` we can do similar things as list. We can `del` or we can `pop`. Recall that we are using the keys and not the values."
   ]
  },
  {
   "cell_type": "code",
   "execution_count": 0,
   "metadata": {
    "collapsed": false,
    "slideshow": {
     "slide_type": "fragment"
    }
   },
   "outputs": [
   ],
   "source": [
    "D = {2:1, 3:2, 4:3}\n",
    "del D[3]\n",
    "poppedItem = D.pop(4)\n",
    "D"
   ]
  },
  {
   "cell_type": "markdown",
   "metadata": {
    "collapsed": false,
    "slideshow": {
     "slide_type": "subslide"
    }
   },
   "source": [
    "<h5>\n",
    "    Some other useful commands (Lists only!):\n",
    "</h5>\n",
    "<ul>\n",
    "    <li><code>sort</code></li>\n",
    "    <li><code>reverse</code></li>\n",
    "</ul>"
   ]
  },
  {
   "cell_type": "code",
   "execution_count": 0,
   "metadata": {
    "collapsed": false,
    "slideshow": {
     "slide_type": "fragment"
    }
   },
   "outputs": [
   ],
   "source": [
    "L = [5,4,1,2,3]\n",
    "L.sort()\n",
    "L"
   ]
  },
  {
   "cell_type": "code",
   "execution_count": 0,
   "metadata": {
    "collapsed": false,
    "slideshow": {
     "slide_type": "fragment"
    }
   },
   "outputs": [
   ],
   "source": [
    "L = [5,4,1,2,3]\n",
    "L.reverse()\n",
    "L"
   ]
  },
  {
   "cell_type": "markdown",
   "metadata": {
    "collapsed": false,
    "slideshow": {
     "slide_type": "slide"
    }
   },
   "source": [
    "<h3>Some basic commands</h3>\n",
    "Here's a summary of everything we just talked about.\n",
    "<table border=\"1\">\n",
    "    <thead>\n",
    "        <tr>\n",
    "            <th>Operation</th>\n",
    "            <th><code>set</code></th>\n",
    "            <th><code>list</code></th>\n",
    "            <th><code>tuple</code></th>\n",
    "            <th><code>dict</code></th>\n",
    "        </tr>\n",
    "    </thead>\n",
    "    <tbody>\n",
    "        <tr>\n",
    "            <td>Construction</td>\n",
    "            <td><code>set([])</code></td>\n",
    "            <td><code>[]</code></td>\n",
    "            <td><code>()</code></td>\n",
    "            <td><code>{}</code></td>\n",
    "        </tr>\n",
    "        <tr>\n",
    "            <td>One element construction</td>\n",
    "            <td><code>set([1])</code></td>\n",
    "            <td><code>[1]</code></td>\n",
    "            <td><code>(1,)</code></td>\n",
    "            <td><code>{1:1}</code></td>\n",
    "        </tr>\n",
    "        <tr>\n",
    "            <td>Size</td>\n",
    "            <td><code>len(set)</code></td>\n",
    "            <td><code>len(list)</code></td>\n",
    "            <td><code>len(tuple)</code></td>\n",
    "            <td><code>len(dict)</code></td>\n",
    "        </tr>\n",
    "        <tr>\n",
    "            <td>Contains</td>\n",
    "            <td><code>x in set</code></td>\n",
    "            <td><code>x in list</code></td>\n",
    "            <td><code>x in tuple</code></td>\n",
    "            <td><code>key in dict</code></td>\n",
    "        </tr>\n",
    "        <tr>\n",
    "            <td>Accessing entries</td>\n",
    "            <td> - </td>\n",
    "            <td><code>list[0]</code></td>\n",
    "            <td><code>tuple[0]</code></td>\n",
    "            <td><code>dict[key]</code></td>\n",
    "        </tr>\n",
    "        <tr>\n",
    "            <td>Adding stuff</td>\n",
    "            <td><code>set.add(x)</code></td>\n",
    "            <td><code>list.append(x)</code><br /><code>list.extend(list2)</code><br /><code>list3 = list1 + list2</code></td>\n",
    "            <td><code>tuple3 = tuple1 + tuple2</code></td>\n",
    "            <td><code>dict[key] = x</code><br/><span style=\"color:#666\">key must be immutable</span></td>\n",
    "        </tr>\n",
    "        <tr>\n",
    "            <td>Deleting stuff</td>\n",
    "            <td><code>set.discard(item)</code></td>\n",
    "            <td><code>list.pop(i)</code><br /><code>del list[i]</code><br /><code>list = list[start:end]</code><br /><code>list.remove(value)</code></td>\n",
    "            <td><code>tuple = tuple[start:end]</code></td>\n",
    "            <td><code>dict.pop(key)</code><br/><code>del dict[key]</code></td>\n",
    "        </tr>\n",
    "    </tbody>\n",
    "</table>"
   ]
  },
  {
   "cell_type": "markdown",
   "metadata": {
    "collapsed": false,
    "slideshow": {
     "slide_type": "subslide"
    }
   },
   "source": [
    "<strong>Exercise:</strong>\n",
    "<ol>\n",
    "    <li>Create the list <code>[5,1,3,6,7,2,12]</code>.</li>\n",
    "    <li>Remove the element 12.</li>\n",
    "    <li>Add the element 4.</li>\n",
    "    <li>Sort the list and reverse it.</li>\n",
    "</ol>"
   ]
  },
  {
   "cell_type": "code",
   "execution_count": 0,
   "metadata": {
    "collapsed": false,
    "slideshow": {
     "slide_type": "fragment"
    }
   },
   "outputs": [
   ],
   "source": [
    "# Try it out!"
   ]
  },
  {
   "cell_type": "markdown",
   "metadata": {
    "collapsed": false,
    "slideshow": {
     "slide_type": "slide"
    }
   },
   "source": [
    "<h3 style=\"margin-bottom:0px\">\n",
    "    The modification problem.\n",
    "</h3>\n",
    "<h5 style=\"margin-top:0px; color:#666\">\n",
    "    Or things that should be illegal.\n",
    "</h5>\n",
    "Changing lists and dictionaries can have unintended consequences. To see this, let's start off with constructing a list.\n",
    "\n",
    "<strong>Note</strong> that for theatrical purposes, I'll have you do the heavy work of hitting `shift+enter` for each code. Try and think about what you would expect to happen each time before running the code."
   ]
  },
  {
   "cell_type": "code",
   "execution_count": 0,
   "metadata": {
    "collapsed": false,
    "slideshow": {
     "slide_type": "fragment"
    }
   },
   "outputs": [
   ],
   "source": [
    "L = [\"a\", \"b\", \"c\"]\n",
    "L2 = [L, L]\n",
    "L2"
   ]
  },
  {
   "cell_type": "markdown",
   "metadata": {
    "collapsed": false,
    "slideshow": {
     "slide_type": "subslide"
    }
   },
   "source": [
    "This seems fairly normal. We have a list composed with two lists. But now watch what happens when we add an element to our list `L`."
   ]
  },
  {
   "cell_type": "code",
   "execution_count": 0,
   "metadata": {
    "collapsed": false,
    "slideshow": {
     "slide_type": "fragment"
    }
   },
   "outputs": [
   ],
   "source": [
    "L.append(\"d\")\n",
    "L2"
   ]
  },
  {
   "cell_type": "markdown",
   "metadata": {
    "collapsed": false,
    "slideshow": {
     "slide_type": "fragment"
    }
   },
   "source": [
    "WHAT?! That's mental right? So what happens if we change `L` to something altogether?"
   ]
  },
  {
   "cell_type": "code",
   "execution_count": 0,
   "metadata": {
    "collapsed": false,
    "slideshow": {
     "slide_type": "fragment"
    }
   },
   "outputs": [
   ],
   "source": [
    "L = [\"a\", \"b\", \"c\"]\n",
    "L2"
   ]
  },
  {
   "cell_type": "markdown",
   "metadata": {
    "collapsed": false,
    "slideshow": {
     "slide_type": "subslide"
    }
   },
   "source": [
    "But `L2` didn't change!\n",
    "\n",
    "So what happened? Basically variables in Python work a little differently than we might otherwise think. When creating a variable Python assigns the variable to a slot in your RAM with the data inside of it.\n",
    "When you then use that variable to construct other variables (such as for `L2 = [L,L]`) Python doesn't duplicate the data.\n",
    "Instead, it says \"create an array with two elements where the information for these elements contained in the slot where `L` is\".\n",
    "So in essence this new memory slot points to the original slot!\n",
    "Therefore when we alter `L` by appending a `d` to it, `L2` still is pointing to that memory slot and therefore will show the `d` now as well.\n",
    "\n",
    "But what happened when we reconstructed `L`?!\n",
    "That is because whenever we do a `=` it resets the memory slot.\n",
    "So now `L` is pointing to a different slot in RAM and altering it won't affect `L2` anymore.\n",
    "\n",
    "BUT that doesn't mean we can't get weird things happening still!\n",
    "`L[0]` is nothing more than just a pointer to the original memory slot that used to contain `L`.\n",
    "So what do yu think will happen when we alter this?"
   ]
  },
  {
   "cell_type": "code",
   "execution_count": 0,
   "metadata": {
    "collapsed": false,
    "slideshow": {
     "slide_type": "fragment"
    }
   },
   "outputs": [
   ],
   "source": [
    "L2[0].remove(\"c\")\n",
    "L2"
   ]
  },
  {
   "cell_type": "markdown",
   "metadata": {
    "collapsed": false,
    "slideshow": {
     "slide_type": "subslide"
    }
   },
   "source": [
    "<h4>\n",
    "    Stop this nonsense! How do we fix this?\n",
    "</h4>\n",
    "<h3>\n",
    "    <code>deepcopy</code> to the rescue!\n",
    "</h3>\n",
    "Basically, what `deepcopy` does is makes a copy of the data instead of just pointing!\n",
    "Like this we won't get a lot of this alteration problems."
   ]
  },
  {
   "cell_type": "code",
   "execution_count": 0,
   "metadata": {
    "collapsed": false,
    "slideshow": {
     "slide_type": "fragment"
    }
   },
   "outputs": [
   ],
   "source": [
    "L = [\"a\", \"b\", \"c\"]\n",
    "L2 = [deepcopy(L), deepcopy(L)]\n",
    "L2"
   ]
  },
  {
   "cell_type": "code",
   "execution_count": 0,
   "metadata": {
    "collapsed": false,
    "slideshow": {
     "slide_type": "fragment"
    }
   },
   "outputs": [
   ],
   "source": [
    "L.append(\"d\")\n",
    "L2"
   ]
  },
  {
   "cell_type": "markdown",
   "metadata": {
    "collapsed": false,
    "slideshow": {
     "slide_type": "slide"
    }
   },
   "source": [
    "<h3>\n",
    "    The <code>None</code> type\n",
    "</h3>\n",
    "<p>\n",
    "    If you want to set a variable but don't want to set it as any particular type, you can use <code>None</code>\n",
    "</p>"
   ]
  },
  {
   "cell_type": "code",
   "execution_count": 0,
   "metadata": {
    "collapsed": false,
    "slideshow": {
     "slide_type": "fragment"
    }
   },
   "outputs": [
   ],
   "source": [
    "v = None\n",
    "print v"
   ]
  },
  {
   "cell_type": "markdown",
   "metadata": {
    "collapsed": false,
    "slideshow": {
     "slide_type": "subslide"
    }
   },
   "source": [
    "<h3 style=\"margin-bottom:0px;\">Ranges</h3>\n",
    "<h5 style=\"margin-top:0px; color: #666\">Lists made easy</h5>\n",
    "<p>\n",
    "    Ranges allow us to make numerical lists easily. We use the <code>range</code> function to construct a range.\n",
    "</p>"
   ]
  },
  {
   "cell_type": "code",
   "execution_count": 0,
   "metadata": {
    "collapsed": false,
    "slideshow": {
     "slide_type": "fragment"
    }
   },
   "outputs": [
   ],
   "source": [
    "range?"
   ]
  },
  {
   "cell_type": "markdown",
   "metadata": {
    "collapsed": false,
    "slideshow": {
     "slide_type": "subslide"
    }
   },
   "source": [
    "If we want all the numbers between 1 and 10 we would do the following:"
   ]
  },
  {
   "cell_type": "code",
   "execution_count": 0,
   "metadata": {
    "collapsed": false,
    "slideshow": {
     "slide_type": "fragment"
    }
   },
   "outputs": [
   ],
   "source": [
    "range(1,10)"
   ]
  },
  {
   "cell_type": "markdown",
   "metadata": {
    "collapsed": false,
    "slideshow": {
     "slide_type": "fragment"
    }
   },
   "source": [
    "Note that `10` is not included!\n",
    "This is because `range` is \"starting\" from `1` and going up to (but not including) `10`.\n",
    "Something to note!.\n",
    "\n",
    "Also, you can skip over every other element if we want."
   ]
  },
  {
   "cell_type": "code",
   "execution_count": 0,
   "metadata": {
    "collapsed": false,
    "slideshow": {
     "slide_type": "fragment"
    }
   },
   "outputs": [
   ],
   "source": [
    "range(1,10,2)"
   ]
  },
  {
   "cell_type": "markdown",
   "metadata": {
    "collapsed": false,
    "slideshow": {
     "slide_type": "subslide"
    }
   },
   "source": [
    "Or we can go backwards!"
   ]
  },
  {
   "cell_type": "code",
   "execution_count": 0,
   "metadata": {
    "collapsed": false,
    "slideshow": {
     "slide_type": "fragment"
    }
   },
   "outputs": [
   ],
   "source": [
    "range(20,1,-1)"
   ]
  },
  {
   "cell_type": "markdown",
   "metadata": {
    "collapsed": false,
    "slideshow": {
     "slide_type": "subslide"
    }
   },
   "source": [
    "<strong>Exercise:</strong> Use <code>range</code> to construct the list of even numbers between $1$ and $40$ (including $40$).<br />\n",
    "<small>Bonus: Put it in reverse order.</small>"
   ]
  },
  {
   "cell_type": "code",
   "execution_count": 0,
   "metadata": {
    "collapsed": false,
    "slideshow": {
     "slide_type": "fragment"
    }
   },
   "outputs": [
   ],
   "source": [
    "# Try it out!"
   ]
  },
  {
   "cell_type": "markdown",
   "metadata": {
    "collapsed": false,
    "slideshow": {
     "slide_type": "slide"
    }
   },
   "source": [
    "<h2 style=\"margin-bottom:0px\">Third parts the charm:</h2>\n",
    "<h4>Control Flows</h4>\n",
    "<ul>\n",
    "    <li><code>if</code> - Does something if the condition is true.</li>\n",
    "    <li><code>for</code> - Loops through a range of objects.</li>\n",
    "    <li><code>while</code> - Keeps looping until condition is false.</li>\n",
    "</ul>\n",
    "\n",
    "For more details you can visit the control flow page on the <a href=\"https://docs.python.org/3/tutorial/controlflow.html\">Python docs</a>."
   ]
  },
  {
   "cell_type": "markdown",
   "metadata": {
    "collapsed": false,
    "slideshow": {
     "slide_type": "fragment"
    }
   },
   "source": [
    "<h4>\n",
    "    Quick aside: Comparisons\n",
    "</h4>\n",
    "<ul>\n",
    "    <li><code>or</code> &nbsp; &nbsp;<code>and</code> &nbsp; &nbsp;<code>not</code> - Boolean operators</li>\n",
    "    <li><code>==</code> - Equal</li>\n",
    "    <li><code>!=</code> - Not equal</li>\n",
    "    <li><code>&lt;</code>&nbsp; &nbsp;<code>&gt;</code>&nbsp; &nbsp;<code>&lt;=</code>&nbsp; &nbsp;<code>&gt;=</code> - Inequalities</li>\n",
    "    <li><code>is</code> - Object identity</li>\n",
    "    <li><code>is not</code> - Negated object identity</li>\n",
    "</ul>"
   ]
  },
  {
   "cell_type": "markdown",
   "metadata": {
    "collapsed": false,
    "slideshow": {
     "slide_type": "subslide"
    }
   },
   "source": [
    "<h4>\n",
    "    <code>if</code>\n",
    "</h4>\n",
    "<h5>\n",
    "    with its siblings <code>elif</code> and <code>else</code>.\n",
    "</h5>\n",
    "\n",
    "An `if` statement is exactly like what it sounds like.\n",
    "If something is true, then do something."
   ]
  },
  {
   "cell_type": "code",
   "execution_count": 0,
   "metadata": {
    "collapsed": false,
    "slideshow": {
     "slide_type": "fragment"
    }
   },
   "outputs": [
   ],
   "source": [
    "if 2 in (1,2,3,4):\n",
    "    print \"2 is in our tuple!\""
   ]
  },
  {
   "cell_type": "markdown",
   "metadata": {
    "collapsed": false,
    "slideshow": {
     "slide_type": "fragment"
    }
   },
   "source": [
    "If we have multiple things we can use `elif` and `else` to help.\n",
    "`elif` stands for \"else if\".\n",
    "The rest should be easy to understand."
   ]
  },
  {
   "cell_type": "code",
   "execution_count": 0,
   "metadata": {
    "collapsed": false,
    "slideshow": {
     "slide_type": "fragment"
    }
   },
   "outputs": [
   ],
   "source": [
    "R = range(1,10,2)\n",
    "if 2 in R:\n",
    "    print \"2 is in range.\"\n",
    "elif 4 in R:\n",
    "    print \"4 is in range.\"\n",
    "else:\n",
    "    print \"By faulty induction our range is only odd numbers.\""
   ]
  },
  {
   "cell_type": "markdown",
   "metadata": {
    "collapsed": false,
    "slideshow": {
     "slide_type": "subslide"
    }
   },
   "source": [
    "<h4>\n",
    "    <code>for</code>\n",
    "</h4>\n",
    "\n",
    "`for` is used for constructing loops.\n",
    "It does \"something\" for each item in something."
   ]
  },
  {
   "cell_type": "code",
   "execution_count": 0,
   "metadata": {
    "collapsed": false,
    "slideshow": {
     "slide_type": "fragment"
    }
   },
   "outputs": [
   ],
   "source": [
    "for i in set([3,2,1]):\n",
    "    print i"
   ]
  },
  {
   "cell_type": "code",
   "execution_count": 0,
   "metadata": {
    "collapsed": false,
    "slideshow": {
     "slide_type": "subslide"
    }
   },
   "outputs": [
   ],
   "source": [
    "for i in range(1,5):\n",
    "    print i"
   ]
  },
  {
   "cell_type": "code",
   "execution_count": 0,
   "metadata": {
    "collapsed": false,
    "slideshow": {
     "slide_type": "fragment"
    }
   },
   "outputs": [
   ],
   "source": [
    "for i in range(1,10):\n",
    "    if i % 2 == 0:\n",
    "        print i"
   ]
  },
  {
   "cell_type": "code",
   "execution_count": 0,
   "metadata": {
    "collapsed": false,
    "slideshow": {
     "slide_type": "fragment"
    }
   },
   "outputs": [
   ],
   "source": [
    "for i in range(1,10):\n",
    "    if is_prime(i):\n",
    "        print i"
   ]
  },
  {
   "cell_type": "markdown",
   "metadata": {
    "collapsed": false,
    "slideshow": {
     "slide_type": "subslide"
    }
   },
   "source": [
    "<strong>Exercise:</strong> Use a <code>for</code> loop to print out all the non-even primes from $1$ to $100$."
   ]
  },
  {
   "cell_type": "code",
   "execution_count": 0,
   "metadata": {
    "collapsed": false,
    "slideshow": {
     "slide_type": "fragment"
    }
   },
   "outputs": [
   ],
   "source": [
    "# Try it yourself"
   ]
  },
  {
   "cell_type": "markdown",
   "metadata": {
    "collapsed": false,
    "slideshow": {
     "slide_type": "subslide"
    }
   },
   "source": [
    "<h4>\n",
    "    <code>while</code>\n",
    "</h4>\n",
    "\n",
    "`while` is a loop that keeps going while a certain condition is true.\n",
    "\n",
    "<strong>Note:</strong> be careful of creating infinite loops!\n",
    "Always make sure that your loop WILL end at some point."
   ]
  },
  {
   "cell_type": "markdown",
   "metadata": {
    "collapsed": false,
    "slideshow": {
     "slide_type": "fragment"
    }
   },
   "source": [
    "Let's look at this through the Collatz conjecture."
   ]
  },
  {
   "cell_type": "code",
   "execution_count": 0,
   "metadata": {
    "collapsed": false,
    "slideshow": {
     "slide_type": "fragment"
    }
   },
   "outputs": [
   ],
   "source": [
    "C = 3\n",
    "while C != 1:\n",
    "    print C\n",
    "    if C % 2 == 0:\n",
    "        C /= 2\n",
    "    else:\n",
    "        C = C*3 + 1"
   ]
  },
  {
   "cell_type": "markdown",
   "metadata": {
    "collapsed": false,
    "slideshow": {
     "slide_type": "subslide"
    }
   },
   "source": [
    "<h4 style=\"margin-bottom:0px\">\n",
    "    <code>for</code> and <code>list</code>\n",
    "</h4>\n",
    "<h5 style=\"margin-top:0px; color:#666\">\n",
    "    The super team\n",
    "</h5>\n",
    "We can use for loops in order to create super awesome lists."
   ]
  },
  {
   "cell_type": "code",
   "execution_count": 0,
   "metadata": {
    "collapsed": false,
    "slideshow": {
     "slide_type": "fragment"
    }
   },
   "outputs": [
   ],
   "source": [
    "[i^2 for i in range(1,10)]"
   ]
  },
  {
   "cell_type": "markdown",
   "metadata": {
    "collapsed": false,
    "slideshow": {
     "slide_type": "subslide"
    }
   },
   "source": [
    "We can even combine if statements!"
   ]
  },
  {
   "cell_type": "code",
   "execution_count": 0,
   "metadata": {
    "collapsed": false,
    "slideshow": {
     "slide_type": "fragment"
    }
   },
   "outputs": [
   ],
   "source": [
    "[i for i in range(1,50) if i%7 == 0 or i%5 == 0]"
   ]
  },
  {
   "cell_type": "markdown",
   "metadata": {
    "collapsed": false,
    "slideshow": {
     "slide_type": "subslide"
    }
   },
   "source": [
    "And take sums!"
   ]
  },
  {
   "cell_type": "code",
   "execution_count": 0,
   "metadata": {
    "collapsed": false,
    "slideshow": {
     "slide_type": "fragment"
    }
   },
   "outputs": [
   ],
   "source": [
    "sum([p for p in range(1,10) if is_prime(p)])"
   ]
  },
  {
   "cell_type": "markdown",
   "metadata": {
    "collapsed": false,
    "slideshow": {
     "slide_type": "subslide"
    }
   },
   "source": [
    "<strong>Exercise:</strong> Find the sume of the non-even primes from $1$ to $100$."
   ]
  },
  {
   "cell_type": "code",
   "execution_count": 0,
   "metadata": {
    "collapsed": false,
    "slideshow": {
     "slide_type": "fragment"
    }
   },
   "outputs": [
   ],
   "source": [
    "# Try it yourself!"
   ]
  },
  {
   "cell_type": "markdown",
   "metadata": {
    "collapsed": false,
    "slideshow": {
     "slide_type": "subslide"
    }
   },
   "source": [
    "<h4>\n",
    "    Wait, it gets better.... Nesting!\n",
    "</h4>\n",
    "We can nest these lists in order to construct lists of tuples, dictionaries, matrices, etc."
   ]
  },
  {
   "cell_type": "code",
   "execution_count": 0,
   "metadata": {
    "collapsed": false,
    "slideshow": {
     "slide_type": "fragment"
    }
   },
   "outputs": [
   ],
   "source": [
    "[(x,y,z) for x in range(1,3) for y in range(1,3) for z in range (1,3)]"
   ]
  },
  {
   "cell_type": "code",
   "execution_count": 0,
   "metadata": {
    "collapsed": false,
    "slideshow": {
     "slide_type": "subslide"
    }
   },
   "outputs": [
   ],
   "source": [
    "[[i^j for j in range(1,3)] for i in range(1,5)]"
   ]
  },
  {
   "cell_type": "code",
   "execution_count": 0,
   "metadata": {
    "collapsed": false,
    "slideshow": {
     "slide_type": "fragment"
    }
   },
   "outputs": [
   ],
   "source": [
    "matrix([[i^j for j in range(1,3)] for i in range(1,5)])"
   ]
  },
  {
   "cell_type": "markdown",
   "metadata": {
    "collapsed": false,
    "slideshow": {
     "slide_type": "subslide"
    }
   },
   "source": [
    "<h4>\n",
    "    These special lists also allow us to grab the keys/values of dictionaries!\n",
    "</h4>"
   ]
  },
  {
   "cell_type": "code",
   "execution_count": 0,
   "metadata": {
    "collapsed": false,
    "slideshow": {
     "slide_type": "fragment"
    }
   },
   "outputs": [
   ],
   "source": [
    "D = {2:1, 3:2, 4:3}\n",
    "[value for value in D.itervalues()]"
   ]
  },
  {
   "cell_type": "code",
   "execution_count": 0,
   "metadata": {
    "collapsed": false,
    "slideshow": {
     "slide_type": "fragment"
    }
   },
   "outputs": [
   ],
   "source": [
    "[key for key in D.iterkeys()]"
   ]
  },
  {
   "cell_type": "code",
   "execution_count": 0,
   "metadata": {
    "collapsed": false,
    "slideshow": {
     "slide_type": "fragment"
    }
   },
   "outputs": [
   ],
   "source": [
    "[(key,value) for key,value in D.iteritems()]"
   ]
  },
  {
   "cell_type": "markdown",
   "metadata": {
    "collapsed": false,
    "slideshow": {
     "slide_type": "subslide"
    }
   },
   "source": [
    "<h3 style=\"margin-bottom:0px;\">Integers vs ints</h3>\n",
    "<h5 style=\"margin-top:0px; color: #666\">Revisited</h5>\n",
    "\n",
    "So do you recall how integers in Python have a division problem?\n",
    "Check out this matrix...."
   ]
  },
  {
   "cell_type": "code",
   "execution_count": 0,
   "metadata": {
    "collapsed": false,
    "slideshow": {
     "slide_type": "fragment"
    }
   },
   "outputs": [
   ],
   "source": [
    "matrix(QQ, [[i/j for i in range(1,10)] for j in range(1,10)])"
   ]
  },
  {
   "cell_type": "markdown",
   "metadata": {
    "collapsed": false,
    "slideshow": {
     "slide_type": "subslide"
    }
   },
   "source": [
    "That looks wrong...\n",
    "Basically, range will return Python integers and NOT sage integers!\n",
    "This is obviously a problem if we actually want to work with these numbers.\n",
    "So, sage includes with it `srange` which is a copy of `range` but instead returns sage integers and not Python integers.\n",
    "Let's see this in action."
   ]
  },
  {
   "cell_type": "code",
   "execution_count": 0,
   "metadata": {
    "collapsed": false,
    "slideshow": {
     "slide_type": "fragment"
    }
   },
   "outputs": [
   ],
   "source": [
    "matrix(QQ, [[i/j for i in srange(1,10)] for j in srange(1,10)])"
   ]
  },
  {
   "cell_type": "markdown",
   "metadata": {
    "collapsed": false,
    "slideshow": {
     "slide_type": "slide"
    }
   },
   "source": [
    "<h2 style=\"margin-bottom:0px\">\n",
    "    Part $2^2$:\n",
    "</h2>\n",
    "<h4>\n",
    "    Functions\n",
    "</h4>\n",
    "Functions are defined using the <code>def</code> statement. We can return things from functions using the <code>return</code> keyword."
   ]
  },
  {
   "cell_type": "code",
   "execution_count": 0,
   "metadata": {
    "collapsed": false,
    "slideshow": {
     "slide_type": "fragment"
    }
   },
   "outputs": [
   ],
   "source": [
    "def f(x):\n",
    "    return x^2\n",
    "\n",
    "f(2)"
   ]
  },
  {
   "cell_type": "markdown",
   "metadata": {
    "collapsed": false,
    "slideshow": {
     "slide_type": "subslide"
    }
   },
   "source": [
    "<h4>\n",
    "    Recursion - Catalan Numbers\n",
    "</h4>\n",
    "$C_0 = 1$<br />\n",
    "$C_{n} = \\frac{2(2n-1)}{n+1} C_{n-1}$"
   ]
  },
  {
   "cell_type": "code",
   "execution_count": 0,
   "metadata": {
    "collapsed": false,
    "slideshow": {
     "slide_type": "fragment"
    }
   },
   "outputs": [
   ],
   "source": [
    "def catalanNumber(x):\n",
    "    if x == 0:\n",
    "        return 1\n",
    "    else:\n",
    "        return (2 * (2 * x - 1) / (x+1)) * catalanNumber(x-1)\n",
    "\n",
    "[catalanNumber(n) for n in range(0,10)]"
   ]
  },
  {
   "cell_type": "markdown",
   "metadata": {
    "collapsed": false,
    "slideshow": {
     "slide_type": "subslide"
    }
   },
   "source": [
    "<h4>\n",
    "    Complicated recursion - Catalan Numbers part 2\n",
    "</h4>\n",
    "$C_0 = 1$<br />\n",
    "$C_n = \\sum_{i = 0}^{n-1} C_{i} C_{n-1-i}$"
   ]
  },
  {
   "cell_type": "code",
   "execution_count": 0,
   "metadata": {
    "collapsed": false,
    "slideshow": {
     "slide_type": "fragment"
    }
   },
   "outputs": [
   ],
   "source": [
    "def catalanNumber(x):\n",
    "    if x == 0:\n",
    "        return 1\n",
    "    else:\n",
    "        return sum([ (catalanNumber(i) * catalanNumber(x-1 - i)) for i in range(0,x)])\n",
    "\n",
    "[catalanNumber(n) for n in range(0,10)]"
   ]
  },
  {
   "cell_type": "markdown",
   "metadata": {
    "collapsed": false,
    "slideshow": {
     "slide_type": "subslide"
    }
   },
   "source": [
    "<strong>Exercise:</strong> Create a function for the fibonacci series and display the first $20$."
   ]
  },
  {
   "cell_type": "code",
   "execution_count": 0,
   "metadata": {
    "collapsed": false,
    "slideshow": {
     "slide_type": "fragment"
    }
   },
   "outputs": [
   ],
   "source": [
    "# Try it!"
   ]
  },
  {
   "cell_type": "markdown",
   "metadata": {
    "collapsed": false,
    "slideshow": {
     "slide_type": "subslide"
    }
   },
   "source": [
    "<h4>\n",
    "    Functions can also have default values.\n",
    "</h4>"
   ]
  },
  {
   "cell_type": "code",
   "execution_count": 0,
   "metadata": {
    "collapsed": false,
    "slideshow": {
     "slide_type": "fragment"
    }
   },
   "outputs": [
   ],
   "source": [
    "# By default we choose 1\n",
    "def choose(n, k = 1):\n",
    "    return binomial(n,k)\n",
    "\n",
    "print choose(5)\n",
    "print choose(5,2)"
   ]
  },
  {
   "cell_type": "markdown",
   "metadata": {
    "collapsed": false,
    "slideshow": {
     "slide_type": "subslide"
    }
   },
   "source": [
    "<h4>\n",
    "    Functions can also return multiple values if desired.\n",
    "</h4>"
   ]
  },
  {
   "cell_type": "code",
   "execution_count": 0,
   "metadata": {
    "collapsed": false,
    "slideshow": {
     "slide_type": "fragment"
    }
   },
   "outputs": [
   ],
   "source": [
    "def fibAndCat(n):\n",
    "    return fibonacci(n), catalan_number(n)\n",
    "\n",
    "F, C = fibAndCat(5)\n",
    "print F\n",
    "print C"
   ]
  },
  {
   "cell_type": "code",
   "execution_count": 0,
   "metadata": {
    "collapsed": false,
    "slideshow": {
     "slide_type": "fragment"
    }
   },
   "outputs": [
   ],
   "source": [
    "[fibAndCat(i) for i in range(0,10)]"
   ]
  },
  {
   "cell_type": "markdown",
   "metadata": {
    "collapsed": false,
    "slideshow": {
     "slide_type": "subslide"
    }
   },
   "source": [
    "<h3>\n",
    "    Digraphs!\n",
    "</h3>\n",
    "<p>\n",
    "    Sage allows us to construct digraphs using dictionaries. Let's take a sidestep and look at how to construct digraphs and some operations we can do on them.\n",
    "</p>"
   ]
  },
  {
   "cell_type": "code",
   "execution_count": 0,
   "metadata": {
    "collapsed": false,
    "slideshow": {
     "slide_type": "fragment"
    }
   },
   "outputs": [
   ],
   "source": [
    "D = {0:[1,2,3], 1:[0,3], 2:[3,4], 4:[5,5,5,1], 5:[5]}\n",
    "G = DiGraph(D)\n",
    "G.plot()"
   ]
  },
  {
   "cell_type": "code",
   "execution_count": 0,
   "metadata": {
    "collapsed": false,
    "slideshow": {
     "slide_type": "subslide"
    }
   },
   "outputs": [
   ],
   "source": [
    "G.adjacency_matrix()"
   ]
  },
  {
   "cell_type": "markdown",
   "metadata": {
    "collapsed": false,
    "slideshow": {
     "slide_type": "subslide"
    }
   },
   "source": [
    "<strong>Exercise:</strong> Plot your favourite digraph."
   ]
  },
  {
   "cell_type": "code",
   "execution_count": 0,
   "metadata": {
    "collapsed": false,
    "slideshow": {
     "slide_type": "fragment"
    }
   },
   "outputs": [
   ],
   "source": [
    "# Test this out here."
   ]
  },
  {
   "cell_type": "markdown",
   "metadata": {
    "collapsed": false,
    "slideshow": {
     "slide_type": "slide"
    }
   },
   "source": [
    "Thanks for reading this tutorial!!!\n",
    "\n",
    "If you have any suggestions, just email me and let me know =D I'm more than happy to make this more accessible to everyone =)\n",
    "Also, feel free to use this for anything =)\n",
    "The more humans using sage the better =D\n",
    "\n",
    "**Email:** aram.dermenjian@gmail.com\n",
    "**Website:** dermenjian.com"
   ]
  }
 ],
 "metadata": {
  "kernelspec": {
   "display_name": "SageMath 8.7",
   "language": "sagemath",
   "metadata": {
    "cocalc": {
     "description": "Open-source mathematical software system",
     "priority": 1,
     "url": "https://www.sagemath.org/"
    }
   },
   "name": "sage-8.7"
  },
  "language_info": {
   "codemirror_mode": {
    "name": "ipython",
    "version": 2
   },
   "file_extension": ".py",
   "mimetype": "text/x-python",
   "name": "python",
   "nbconvert_exporter": "python",
   "pygments_lexer": "ipython2",
   "version": "2.7.13"
  }
 },
 "nbformat": 4,
 "nbformat_minor": 0
}